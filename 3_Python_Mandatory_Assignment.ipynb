{
  "nbformat": 4,
  "nbformat_minor": 0,
  "metadata": {
    "kernelspec": {
      "display_name": "Python 3",
      "language": "python",
      "name": "python3"
    },
    "language_info": {
      "codemirror_mode": {
        "name": "ipython",
        "version": 3
      },
      "file_extension": ".py",
      "mimetype": "text/x-python",
      "name": "python",
      "nbconvert_exporter": "python",
      "pygments_lexer": "ipython3",
      "version": "3.6.8"
    },
    "colab": {
      "name": "3. Python Mandatory Assignment.ipynb",
      "provenance": [],
      "collapsed_sections": []
    }
  },
  "cells": [
    {
      "cell_type": "markdown",
      "metadata": {
        "id": "l0ZzOlyxB-kf"
      },
      "source": [
        "<h1>Python: without numpy or sklearn </h1>"
      ]
    },
    {
      "cell_type": "markdown",
      "metadata": {
        "id": "C0xO8JV9B-ki"
      },
      "source": [
        "<h3> Q1: Given two matrices please print the product of those two matrices </h3>\n",
        "<pre>\n",
        "\n",
        "Ex 1: A   = [[1 3 4]\n",
        "             [2 5 7]\n",
        "             [5 9 6]]\n",
        "      B   = [[1 0 0]\n",
        "             [0 1 0]\n",
        "             [0 0 1]]\n",
        "      A*B = [[1 3 4]\n",
        "             [2 5 7]\n",
        "             [5 9 6]]\n",
        "\n",
        "     \n",
        "Ex 2: A   = [[1 2]\n",
        "             [3 4]]\n",
        "      B   = [[1 2 3 4 5]\n",
        "             [5 6 7 8 9]]\n",
        "      A*B = [[11 14 17 20 23]\n",
        "             [23 30 36 42 51]]\n",
        "             \n",
        "Ex 3: A   = [[1 2]\n",
        "             [3 4]]\n",
        "      B   = [[1 4]\n",
        "             [5 6]\n",
        "             [7 8]\n",
        "             [9 6]]\n",
        "      A*B =Not possible\n",
        "</pre>"
      ]
    },
    {
      "cell_type": "code",
      "metadata": {
        "id": "rnssAfpgB-kj",
        "colab": {
          "base_uri": "https://localhost:8080/"
        },
        "outputId": "56e5a66b-58b1-4f34-ef27-4347e27ebc73"
      },
      "source": [
        "# write your python code here\n",
        "# you can take the above example as sample input for your program to test\n",
        "# it should work for any general input try not to hard code for only given input examples\n",
        "\n",
        "\n",
        "# you can free to change all these codes/structure\n",
        "# here A and B are list of lists\n",
        "\n",
        "import numpy as np\n",
        "def matrix_mul(A, B):\n",
        "    # write your code\n",
        "    #get number of rows and column of matrix A using shape function\n",
        "    Ai, Aj = np.shape(A)\n",
        "    #get number of rows and column of matrix B using shape function\n",
        "    Bi, Bj = np.shape(B)\n",
        "    #create zero matrix of shape number of rowsin matrix-A and number of column of matrix_B\n",
        "    C=np.zeros(shape=(Ai, Bj))\n",
        "    #check the condition where rows of matrix_A and columns of matix_B are equal\n",
        "    if Aj == Bi:\n",
        "      #iterate through rows of matrix_A\n",
        "      for i in range(Ai):\n",
        "        #iterate through columns of matrix_B\n",
        "        for j in range(Bj):\n",
        "          #iterate through rows of matrix_B\n",
        "          for k in range(Bi):\n",
        "            C[i][j] += A[i][k] * B[k][j]\n",
        "      return(C)\n",
        "    else:\n",
        "      print(\"Matrix Multiplication not possible\")\n",
        "\n",
        "A = [[1, 3, 4], [2, 5, 7], [5, 9, 6]]\n",
        "B = [[1, 0, 0], [0, 1, 0], [0, 0, 1]]\n",
        "\n",
        "#A = [[1, 2], [3, 4]]\n",
        "#B = [[1, 2, 3, 4, 5], [5, 6, 7, 8, 9]]\n",
        "\n",
        "#A = [[1, 2], [3, 4]]\n",
        "#B = [[1, 4], [5, 6], [7, 8], [9, 6]]\n",
        "matrix_mul(A, B)"
      ],
      "execution_count": 1,
      "outputs": [
        {
          "output_type": "execute_result",
          "data": {
            "text/plain": [
              "array([[1., 3., 4.],\n",
              "       [2., 5., 7.],\n",
              "       [5., 9., 6.]])"
            ]
          },
          "metadata": {},
          "execution_count": 1
        }
      ]
    },
    {
      "cell_type": "markdown",
      "metadata": {
        "id": "at4VwLggB-kn"
      },
      "source": [
        "<h3> Q2: Select a number randomly with probability proportional to its magnitude from the given array of n elements</h3>\n",
        "\n",
        "consider an experiment, selecting an element from the list A randomly with probability proportional to its magnitude.\n",
        "assume we are doing the same experiment for 100 times with replacement, in each experiment you will print a number that is selected randomly from A.\n",
        "\n",
        "<pre>\n",
        "Ex 1: A = [0 5 27 6 13 28 100 45 10 79]\n",
        "let f(x) denote the number of times x getting selected in 100 experiments.\n",
        "f(100) > f(79) > f(45) > f(28) > f(27) > f(13) > f(10) > f(6) > f(5) > f(0)\n",
        "</pre>"
      ]
    },
    {
      "cell_type": "code",
      "metadata": {
        "id": "B6S2dpBhB-kn",
        "colab": {
          "base_uri": "https://localhost:8080/"
        },
        "outputId": "e4b6ecc5-0002-4999-c8d0-5e77497c0690"
      },
      "source": [
        "from random import uniform\n",
        "# write your python code here\n",
        "# you can take the above example as sample input for your program to test\n",
        "# it should work for any general input try not to hard code for only given input examples\n",
        "\n",
        "\n",
        "# you can free to change all these codes/structure\n",
        "def pick_a_number_from_list(A):\n",
        "    # your code here for picking an element from with the probability propotional to its magnitude\n",
        "\n",
        "    #initialize sum=0 and calculate sum of elements in list\n",
        "    sum = 0\n",
        "    for i in A:\n",
        "      sum += i\n",
        "      #normalize the elements in list and add in new list(cum_lst)\n",
        "    x=0\n",
        "    cum_lst=[]\n",
        "    for i in A:\n",
        "      cum_lst.append(x+i / sum)\n",
        "      x = x+i / sum\n",
        "      #cum_lst has cumulative normalised sum values of list-A\n",
        "\n",
        "      #get random values between 0 and 1\n",
        "      r=uniform(0, 1)\n",
        "    #iterate through cum_lst to check random value is in which bin of cum_lst elements\n",
        "    for i in range(len(cum_lst)):\n",
        "      #number which has larger magnitude has larger bin range in cum_lst\n",
        "      if r < cum_lst[i]:\n",
        "        return A[i]\n",
        "\n",
        "\n",
        "def sampling_based_on_magnitued():\n",
        "    for i in range(1,100):\n",
        "        number = pick_a_number_from_list(A)\n",
        "        print(number)\n",
        "\n",
        "A = [0, 5, 27, 6, 13, 28, 100, 45, 10, 79]\n",
        "sampling_based_on_magnitued()"
      ],
      "execution_count": 2,
      "outputs": [
        {
          "output_type": "stream",
          "name": "stdout",
          "text": [
            "100\n",
            "100\n",
            "79\n",
            "79\n",
            "100\n",
            "79\n",
            "100\n",
            "79\n",
            "100\n",
            "45\n",
            "45\n",
            "100\n",
            "79\n",
            "45\n",
            "6\n",
            "79\n",
            "28\n",
            "79\n",
            "45\n",
            "79\n",
            "28\n",
            "10\n",
            "100\n",
            "79\n",
            "13\n",
            "79\n",
            "13\n",
            "100\n",
            "10\n",
            "45\n",
            "28\n",
            "100\n",
            "28\n",
            "100\n",
            "27\n",
            "79\n",
            "45\n",
            "45\n",
            "28\n",
            "79\n",
            "100\n",
            "100\n",
            "100\n",
            "45\n",
            "100\n",
            "79\n",
            "100\n",
            "100\n",
            "100\n",
            "28\n",
            "79\n",
            "79\n",
            "100\n",
            "100\n",
            "100\n",
            "100\n",
            "100\n",
            "45\n",
            "100\n",
            "79\n",
            "45\n",
            "45\n",
            "100\n",
            "100\n",
            "45\n",
            "45\n",
            "27\n",
            "5\n",
            "100\n",
            "79\n",
            "79\n",
            "100\n",
            "100\n",
            "28\n",
            "10\n",
            "100\n",
            "27\n",
            "79\n",
            "10\n",
            "45\n",
            "100\n",
            "100\n",
            "45\n",
            "79\n",
            "100\n",
            "100\n",
            "79\n",
            "100\n",
            "45\n",
            "100\n",
            "28\n",
            "28\n",
            "79\n",
            "79\n",
            "100\n",
            "5\n",
            "100\n",
            "28\n",
            "79\n"
          ]
        }
      ]
    },
    {
      "cell_type": "markdown",
      "metadata": {
        "id": "D1xQy2WWB-kq"
      },
      "source": [
        "<h3> Q3: Replace the digits in the string with #</h3>\n",
        "\n",
        "consider a string that will have digits in that, we need to remove all the not digits and replace the digits with #\n",
        "<pre>\n",
        "Ex 1: A = 234                Output: ###\n",
        "Ex 2: A = a2b3c4             Output: ###\n",
        "Ex 3: A = abc                Output:   (empty string)\n",
        "Ex 5: A = #2a$#b%c%561#      Output: ####\n",
        "</pre>"
      ]
    },
    {
      "cell_type": "code",
      "metadata": {
        "id": "fxczi2jzB-kr",
        "colab": {
          "base_uri": "https://localhost:8080/",
          "height": 35
        },
        "outputId": "ab4ad3b3-baaf-4915-9178-041f55478561"
      },
      "source": [
        "import re\n",
        "# write your python code here\n",
        "# you can take the above example as sample input for your program to test\n",
        "# it should work for any general input try not to hard code for only given input examples\n",
        "\n",
        "# you can free to change all these codes/structure\n",
        "# String: it will be the input to your program\n",
        "def replace_digits(String):\n",
        "    # write your code\n",
        "    # \n",
        "    #Replacing all non digit characters into empty character(\\D = other than digit)\n",
        "    replace1 = re.sub(r'\\D', '', String)\n",
        "\n",
        "    #Replacing all digits into #(\\d = digit)\n",
        "    replace2 = re.sub(r'\\d', '#', replace1)\n",
        "    return(replace2) # modified string which is after replacing the # with digits\n",
        "\n",
        "String = '234'\n",
        "replace_digits(String)"
      ],
      "execution_count": 3,
      "outputs": [
        {
          "output_type": "execute_result",
          "data": {
            "application/vnd.google.colaboratory.intrinsic+json": {
              "type": "string"
            },
            "text/plain": [
              "'###'"
            ]
          },
          "metadata": {},
          "execution_count": 3
        }
      ]
    },
    {
      "cell_type": "markdown",
      "metadata": {
        "id": "j7h0Ywg7B-kw"
      },
      "source": [
        "<h3> Q4: Students marks dashboard</h3>\n",
        "\n",
        "consider the marks list of class students given two lists <br>\n",
        "Students = ['student1','student2','student3','student4','student5','student6','student7','student8','student9','student10'] <br>\n",
        "Marks = [45, 78, 12, 14, 48, 43, 45, 98, 35, 80] <br>\n",
        "from the above two lists the Student[0] got Marks[0],  Student[1] got Marks[1] and so on <br><br>\n",
        "your task is to print the name of students\n",
        "<strong>a. Who got top 5 ranks, in the descending order of marks</strong> <br>\n",
        "<strong>b. Who got least 5 ranks, in the increasing order of marks</strong><br>\n",
        "<strong>d. Who got marks between  &gt;25th percentile &lt;75th percentile, in the increasing order of marks</strong>\n",
        "\n",
        "<pre>\n",
        "Ex 1: \n",
        "Students=['student1','student2','student3','student4','student5','student6','student7','student8','student9','student10'] \n",
        "Marks = [45, 78, 12, 14, 48, 43, 47, 98, 35, 80]\n",
        "a. \n",
        "student8  98\n",
        "student10 80\n",
        "student2  78\n",
        "student5  48\n",
        "student7  47\n",
        "b.\n",
        "student3 12\n",
        "student4 14\n",
        "student9 35\n",
        "student6 43\n",
        "student1 45\n",
        "c.\n",
        "student9 35\n",
        "student6 43\n",
        "student1 45\n",
        "student7 47\n",
        "student5 48\n",
        "</pre>"
      ]
    },
    {
      "cell_type": "code",
      "metadata": {
        "id": "cxPJgItsB-kx",
        "colab": {
          "base_uri": "https://localhost:8080/"
        },
        "outputId": "389e6458-f7b4-4323-a537-4a40881771f5"
      },
      "source": [
        "# write your python code here\n",
        "# you can take the above example as sample input for your program to test\n",
        "# it should work for any general input try not to hard code for only given input examples\n",
        "import math\n",
        "\n",
        "def percentile(data, percentile):\n",
        "    size = len(data)\n",
        "    return sorted(data)[int((size * percentile) / 100) - 1]\n",
        "    #return sorted(data)[int(math.ceil((size * percentile) / 100)) - 1]\n",
        "\n",
        "# you can free to change all these codes/structure\n",
        "def display_dash_board(students, marks):\n",
        "    # write code for computing top top 5 students\n",
        "\n",
        "    marks, students = zip(*sorted(zip(marks,students)))                  #arranging both marks and students in ascending order\n",
        "    top_5_students = [(students[-i], marks[-i]) for i in range(1, 6)]    #Taking top 5 students based on marks by reverse indexing\n",
        "\n",
        "    # write code for computing top least 5 students\n",
        "    least_5_students = [(students[i], marks[i]) for i in range(5)]       #Taking least 5 students based on marks\n",
        "\n",
        "    # write code for computing top least 5 students\n",
        "    p_25 = percentile(marks, 25)                                         #Calculate 25th percentile using percntile method\n",
        "    p_75 = percentile(marks, 75)                                         #Calculate 75th percentile using percntile method\n",
        "    students_within_25_and_75 = [(students[i], marks[i]) for i in range(len(marks)) if marks[i] > p_25 and marks[i] < 75]   #selecting students within 25th and 75th percentile\n",
        "    \n",
        "    return top_5_students, least_5_students, students_within_25_and_75\n",
        "\n",
        "Students=['student1','student2','student3','student4','student5','student6','student7','student8','student9','student10'] \n",
        "Marks = [45, 78, 12, 14, 48, 43, 47, 98, 35, 80]\n",
        "\n",
        "top_5_students, least_5_students, students_within_25_and_75 = display_dash_board(Students, Marks)\n",
        "\n",
        "print(top_5_students)\n",
        "print(least_5_students)\n",
        "print(students_within_25_and_75)"
      ],
      "execution_count": 4,
      "outputs": [
        {
          "output_type": "stream",
          "name": "stdout",
          "text": [
            "[('student8', 98), ('student10', 80), ('student2', 78), ('student5', 48), ('student7', 47)]\n",
            "[('student3', 12), ('student4', 14), ('student9', 35), ('student6', 43), ('student1', 45)]\n",
            "[('student9', 35), ('student6', 43), ('student1', 45), ('student7', 47), ('student5', 48)]\n"
          ]
        }
      ]
    },
    {
      "cell_type": "markdown",
      "metadata": {
        "id": "qha0OhQHB-k1"
      },
      "source": [
        "<h3> Q5: Find the closest points</h3>\n",
        "\n",
        "consider you have given n data points in the form of list of tuples like S=[(x1,y1),(x2,y2),(x3,y3),(x4,y4),(x5,y5),..,(xn,yn)] and a point P=(p,q) <br> your task is to find 5 closest points(based on cosine distance) in S from P\n",
        "<br>cosine distance between two points (x,y) and (p,q) is defind as $cos^{-1}(\\frac{(x\\cdot p+y\\cdot q)}{\\sqrt(x^2+y^2)\\cdot\\sqrt(p^2+q^2)})$\n",
        "<pre>\n",
        "Ex:\n",
        "\n",
        "S= [(1,2),(3,4),(-1,1),(6,-7),(0, 6),(-5,-8),(-1,-1)(6,0),(1,-1)]\n",
        "P= (3,-4)\n",
        "<img src='https://i.imgur.com/vIFPOcG.jpg', width=300>\n",
        "Output:\n",
        "(6,-7)\n",
        "(1,-1)\n",
        "(6,0)\n",
        "(-5,-8)\n",
        "(-1,-1)\n",
        "</pre>"
      ]
    },
    {
      "cell_type": "code",
      "metadata": {
        "id": "wA5I1g-2B-k2",
        "colab": {
          "base_uri": "https://localhost:8080/"
        },
        "outputId": "b1075f63-eed9-4d04-99eb-f316355bbce4"
      },
      "source": [
        "import math\n",
        "\n",
        "# write your python code here\n",
        "# you can take the above example as sample input for your program to test\n",
        "# it should work for any general input try not to hard code for only given input examples\n",
        "# you can free to change all these codes/structure\n",
        "\n",
        "\n",
        "# here S is list of tuples and P is a tuple ot len=2\n",
        "def closest_points_to_p(S, P):\n",
        "    cd_lst = []                          #creating empty list to store closest points\n",
        "    p, q = P                             #assign tuple values by tuple unpacking\n",
        "    for a,b in S:                        #iterate through list of tuples\n",
        "      x, y = a, b                        #assign tuple values by tuple unpacking\n",
        "      cos_dis = math.acos(((x*p)+(y*q)) / ((math.sqrt((x**2) + (y**2))) * (math.sqrt((p**2) + (q**2)))))     #calculate cosine_distance\n",
        "      cd_lst.append(cos_dis)             #adding cosine_distance to list\n",
        "    cd_lst, S = zip(*sorted(zip(cd_lst, S)))          #sorting both list in ascending order\n",
        "    closest_points_to_p = [S[i] for i in range(5)]    #iterate through sorted list to take closest points\n",
        "    return closest_points_to_p\n",
        "\n",
        "S= [(1,2),(3,4),(-1,1),(6,-7),(0, 6),(-5,-8),(-1,-1),(6,0),(1,-1)]\n",
        "P= (3,-4)\n",
        "points = closest_points_to_p(S, P)\n",
        "print(points) #print the returned values"
      ],
      "execution_count": 5,
      "outputs": [
        {
          "output_type": "stream",
          "name": "stdout",
          "text": [
            "[(6, -7), (1, -1), (6, 0), (-5, -8), (-1, -1)]\n"
          ]
        }
      ]
    },
    {
      "cell_type": "markdown",
      "metadata": {
        "id": "-g11jeAiB-k5"
      },
      "source": [
        "<h3> Q6: Find Which line separates oranges and apples</h3>\n",
        "consider you have given two set of data points in the form of list of tuples like \n",
        "<pre>\n",
        "Red =[(R11,R12),(R21,R22),(R31,R32),(R41,R42),(R51,R52),..,(Rn1,Rn2)]\n",
        "Blue=[(B11,B12),(B21,B22),(B31,B32),(B41,B42),(B51,B52),..,(Bm1,Bm2)]\n",
        "</pre>\n",
        "and set of line equations(in the string formate, i.e list of strings)\n",
        "<pre>\n",
        "Lines = [a1x+b1y+c1,a2x+b2y+c2,a3x+b3y+c3,a4x+b4y+c4,..,K lines]\n",
        "Note: you need to string parsing here and get the coefficients of x,y and intercept\n",
        "</pre>\n",
        "your task is to for each line that is given print \"YES\"/\"NO\", you will print yes, if all the red points are one side of the line and blue points are other side of the line, otherwise no\n",
        "<pre>\n",
        "Ex:\n",
        "Red= [(1,1),(2,1),(4,2),(2,4), (-1,4)]\n",
        "Blue= [(-2,-1),(-1,-2),(-3,-2),(-3,-1),(1,-3)]\n",
        "Lines=[\"1x+1y+0\",\"1x-1y+0\",\"1x+0y-3\",\"0x+1y-0.5\"]\n",
        "<img src='https://i.imgur.com/DoQf7mE.jpg' width=400>\n",
        "Output:\n",
        "YES\n",
        "NO\n",
        "NO\n",
        "YES\n",
        "</pre>"
      ]
    },
    {
      "cell_type": "code",
      "metadata": {
        "id": "eRxExaTRB-k6",
        "colab": {
          "base_uri": "https://localhost:8080/"
        },
        "outputId": "60e914d4-31c3-46a0-8354-f63d76eec561"
      },
      "source": [
        "import math\n",
        "# write your python code here\n",
        "# you can take the above example as sample input for your program to test\n",
        "# it should work for any general input try not to hard code for only given input strings\n",
        "\n",
        "def coeff(line):\n",
        "  l=['']\n",
        "  #iterating through each character in line equation\n",
        "  for i in line:\n",
        "    #checking each character is '.','-' or digit\n",
        "    if i in ['.','-'] or i.isdigit():\n",
        "      #if its true add to list\n",
        "      l[len(l)-1] += i\n",
        "    else:\n",
        "      if len(l[len(l)-1]) != 0:\n",
        "        l.append('')\n",
        "  #getting coefficient of equation as a,b,c\n",
        "  a = float(l[0])\n",
        "  b = float(l[1])\n",
        "  c = float(l[2])\n",
        "  #returning a,b,c\n",
        "  return a, b, c\n",
        "\n",
        "# you can free to change all these codes/structure\n",
        "def i_am_the_one(red,blue,line):\n",
        "\n",
        "    #redck = red(red, line)\n",
        "    #initialize red count to zero\n",
        "    rdcount = 0\n",
        "    #getting coefficient of line equation\n",
        "    a, b, c = coeff(line)\n",
        "    #iterate through each points in red list\n",
        "    for i in red:\n",
        "      #get x1, x2 by tuple unpacking\n",
        "      x1, x2 = i[0], i[1]\n",
        "      #finding direction of red point by applying formula\n",
        "      r = (a*x1)+(b*x2)+c\n",
        "      #checking direction of point\n",
        "      if r>0:\n",
        "        #increase red count by one if r>0\n",
        "        rdcount += 1\n",
        "    #if red count equals length of red points declare red vairable as YES otherwise NO\n",
        "    if rdcount == len(red):\n",
        "      red = 'yes'\n",
        "    else:\n",
        "      red = 'No'\n",
        "\n",
        "    #blueck = blue(blue, line)\n",
        "    #initialize blue count to zero\n",
        "    blcount = 0\n",
        "    #getting coefficient of line equation\n",
        "    a, b, c = coeff(line)\n",
        "    #iterate through each points in blue list\n",
        "    for i in blue:\n",
        "      #get x1, x2 by tuple unpacking\n",
        "      x1, x2 = i[0], i[1]\n",
        "      #finding direction of blue point by applying formula\n",
        "      bl = (a*x1)+(b*x2)+c\n",
        "      #checking direction of point\n",
        "      if bl<0:\n",
        "        blcount += 1\n",
        "    #if blue count equals length of blue points declare red vairable as YES otherwise NO\n",
        "    if blcount == len(blue):\n",
        "      blue = 'yes'\n",
        "    else:\n",
        "      blue = 'No'\n",
        "    \n",
        "    #both red and blue are YES then declare final result as YES otherwise NO\n",
        "    if red == 'yes' and blue == 'yes':\n",
        "      yes_or_no = 'YES'\n",
        "    else:\n",
        "      yes_or_no = 'NO'\n",
        "\n",
        "    return yes_or_no\n",
        "\n",
        "Red= [(1,1),(2,1),(4,2),(2,4), (-1,4)]\n",
        "Blue= [(-2,-1),(-1,-2),(-3,-2),(-3,-1),(1,-3)]\n",
        "Lines=[\"1x+1y+0\",\"1x-1y+0\",\"1x+0y-3\",\"0x+1y-0.5\"]\n",
        "\n",
        "for i in Lines:\n",
        "    yes_or_no = i_am_the_one(Red, Blue, i)\n",
        "    print(yes_or_no) # the returned value"
      ],
      "execution_count": 6,
      "outputs": [
        {
          "output_type": "stream",
          "name": "stdout",
          "text": [
            "YES\n",
            "NO\n",
            "NO\n",
            "YES\n"
          ]
        }
      ]
    },
    {
      "cell_type": "markdown",
      "metadata": {
        "id": "9OBpURbNB-k9"
      },
      "source": [
        "<h3> Q7: Filling the missing values in the specified formate</h3>\n",
        "You will be given a string with digits and '\\_'(missing value) symbols you have to replace the '\\_' symbols as explained \n",
        "<pre>\n",
        "Ex 1: _, _, _, 24 ==> 24/4, 24/4, 24/4, 24/4 i.e we. have distributed the 24 equally to all 4 places <br>\n",
        "Ex 2: 40, _, _, _, 60 ==> (60+40)/5,(60+40)/5,(60+40)/5,(60+40)/5,(60+40)/5 ==> 20, 20, 20, 20, 20 i.e. the sum of (60+40) is distributed qually to all 5 places<br>\n",
        "Ex 3: 80, _, _, _, _  ==> 80/5,80/5,80/5,80/5,80/5 ==> 16, 16, 16, 16, 16 i.e. the 80 is distributed qually to all 5 missing values that are right to it<br>\n",
        "Ex 4: _, _, 30, _, _, _, 50, _, _  \n",
        "==> we will fill the missing values from left to right \n",
        "    a. first we will distribute the 30 to left two missing values (10, 10, 10, _, _, _, 50, _, _)\n",
        "    b. now distribute the sum (10+50) missing values in between (10, 10, 12, 12, 12, 12, 12, _, _) \n",
        "    c. now we will distribute 12 to right side missing values (10, 10, 12, 12, 12, 12, 4, 4, 4)\n",
        "</pre>\n",
        "for a given string with comma seprate values, which will have both missing values numbers like ex: \"_, _, x, _, _, _\"\n",
        "you need fill the missing values\n",
        "\n",
        "Q: your program reads a string like ex: \"_, _, x, _, _, _\" and returns the filled sequence\n",
        "\n",
        "Ex: \n",
        "<pre>\n",
        "Input1: \"_,_,_,24\"\n",
        "Output1: 6,6,6,6\n",
        "\n",
        "Input2: \"40,_,_,_,60\"\n",
        "Output2: 20,20,20,20,20\n",
        "\n",
        "Input3: \"80,_,_,_,_\"\n",
        "Output3: 16,16,16,16,16\n",
        "\n",
        "Input4: \"_,_,30,_,_,_,50,_,_\"\n",
        "Output4: 10,10,12,12,12,12,4,4,4\n",
        "</pre>\n",
        "\n"
      ]
    },
    {
      "cell_type": "code",
      "metadata": {
        "id": "nZmpzHs_B-k-",
        "colab": {
          "base_uri": "https://localhost:8080/"
        },
        "outputId": "4362caa2-96a2-447e-f86b-34935ed9bd53"
      },
      "source": [
        "def curve_smoothing(string):\n",
        "  #split the string using .split() by comma\n",
        "  string = string.split(',')\n",
        "  #initialize below variables to zero, false\n",
        "  fcount = 0\n",
        "  prect =0\n",
        "  fill = 0\n",
        "  digit_present = False\n",
        "  #iterate through spiltted string\n",
        "  for i in string:\n",
        "    further = False\n",
        "    #add fcount by one\n",
        "    fcount += 1\n",
        "    #check each element instring is digit\n",
        "    if i.isdigit():\n",
        "      #assign fcount value to ct\n",
        "      ct = fcount\n",
        "      \n",
        "      #check digit present in 1st position\n",
        "      if fcount ==1:\n",
        "        #check for any other digit present in between(start to end) of spiltted string...if present assign digit_present=true\n",
        "        for j in range(fcount, len(string)):\n",
        "          if string[j].isdigit():\n",
        "            digit_present = True\n",
        "\n",
        "        #if igit not present in between of total string divide the 1st value by lenght of string and fill the string\n",
        "        if not digit_present:\n",
        "          a = int(i)\n",
        "          fill = a/(len(string))\n",
        "          fill = round(fill, 2)\n",
        "          for i in range(ct-1, len(string)):\n",
        "            string[i] = fill\n",
        "          break\n",
        "      \n",
        "      #if any digit present in between fill missing values taking sum of two numbers(from 1st to digit position) and divide it by its range\n",
        "      rng = ct - prect\n",
        "      a = int(i)\n",
        "      fill += a\n",
        "      fill = fill/rng\n",
        "      fill = round(fill, 2)\n",
        "      for k in range(prect, ct):\n",
        "        string[k] = fill\n",
        "      prect = ct-1\n",
        "\n",
        "      #checking any other number present further\n",
        "      for h in range(ct+1, len(string)):\n",
        "          if string[h].isdigit():\n",
        "            further = True\n",
        "      \n",
        "      #if there is no number present afterwards fill remaining missing values\n",
        "      if not further:\n",
        "        fill = fill/(len(string) - (ct-1))\n",
        "        for d in range(ct-1, len(string)):\n",
        "          string[d] = fill\n",
        "        break\n",
        "\n",
        "  return string\n",
        "\n",
        "S=  \"_,_,_,24\"\n",
        "smoothed_values= curve_smoothing(S)\n",
        "print(smoothed_values)"
      ],
      "execution_count": 7,
      "outputs": [
        {
          "output_type": "stream",
          "name": "stdout",
          "text": [
            "[6.0, 6.0, 6.0, 6.0]\n"
          ]
        }
      ]
    },
    {
      "cell_type": "markdown",
      "metadata": {
        "id": "RBz4pzlfB-lB"
      },
      "source": [
        "<h3> Q8: Filling the missing values in the specified formate</h3>\n",
        "You will be given a list of lists, each sublist will be of length 2 i.e. [[x,y],[p,q],[l,m]..[r,s]]\n",
        "consider its like a martrix of n rows and two columns\n",
        "1. the first column F will contain only 5 uniques values (F1, F2, F3, F4, F5)\n",
        "2. the second column S will contain only 3 uniques values (S1, S2, S3)\n",
        "<pre>\n",
        "your task is to find\n",
        "a. Probability of P(F=F1|S==S1), P(F=F1|S==S2), P(F=F1|S==S3)\n",
        "b. Probability of P(F=F2|S==S1), P(F=F2|S==S2), P(F=F2|S==S3)\n",
        "c. Probability of P(F=F3|S==S1), P(F=F3|S==S2), P(F=F3|S==S3)\n",
        "d. Probability of P(F=F4|S==S1), P(F=F4|S==S2), P(F=F4|S==S3)\n",
        "e. Probability of P(F=F5|S==S1), P(F=F5|S==S2), P(F=F5|S==S3)\n",
        "</pre>\n",
        "Ex:\n",
        "\n",
        "<pre>\n",
        "[[F1,S1],[F2,S2],[F3,S3],[F1,S2],[F2,S3],[F3,S2],[F2,S1],[F4,S1],[F4,S3],[F5,S1]]\n",
        "\n",
        "a. P(F=F1|S==S1)=1/4, P(F=F1|S==S2)=1/3, P(F=F1|S==S3)=0/3\n",
        "b. P(F=F2|S==S1)=1/4, P(F=F2|S==S2)=1/3, P(F=F2|S==S3)=1/3\n",
        "c. P(F=F3|S==S1)=0/4, P(F=F3|S==S2)=1/3, P(F=F3|S==S3)=1/3\n",
        "d. P(F=F4|S==S1)=1/4, P(F=F4|S==S2)=0/3, P(F=F4|S==S3)=1/3\n",
        "e. P(F=F5|S==S1)=1/4, P(F=F5|S==S2)=0/3, P(F=F5|S==S3)=0/3\n",
        "</pre>\n",
        "\n",
        "\n"
      ]
    },
    {
      "cell_type": "code",
      "metadata": {
        "id": "e-1giz1MB-lC",
        "colab": {
          "base_uri": "https://localhost:8080/"
        },
        "outputId": "9966ace3-c65a-4d47-ff02-3a936c529748"
      },
      "source": [
        "# write your python code here\n",
        "# you can take the above example as sample input for your program to test\n",
        "# it should work for any general input try not to hard code for only given input strings\n",
        "\n",
        "def prob_s(A, s):                   #fingding count if second statement in conditional probability is present in A\n",
        "  count = 0                         #initilising count with zero\n",
        "  for i in A:                       #iterate through elemnts of A\n",
        "    if i[1] == s:                   # if s present in A increase count by one\n",
        "      count += 1\n",
        "  return (count)\n",
        "\n",
        "def inter_prob(A, f, s):             #finding count if both inputs are present in A\n",
        "  count = 0                          #initialising count to zero\n",
        "  for i in A:                        #iterate through elements in A\n",
        "    if i[0] == f and i[1] == s:      #if both inputs are present increase count by one\n",
        "      count += 1\n",
        "  return count\n",
        "\n",
        "# you can free to change all these codes/structure\n",
        "def compute_conditional_probabilites(A):\n",
        "    # your code\n",
        "    # print the output as per the instructions\n",
        "  print(\"P(F=F1|S==S1)=\", inter_prob(A, 'F1', 'S1'), \"/\", prob_s(A, 'S1'), \"\\tP(F=F1|S==S2)=\", inter_prob(A, 'F1', 'S2'), \"/\" ,prob_s(A, 'S2'), \"\\tP(F=F1|S==S3)=\", inter_prob(A, 'F1', 'S3'), \"/\", prob_s(A, 'S3'))\n",
        "  print(\"P(F=F2|S==S1)=\", inter_prob(A, 'F2', 'S1'), \"/\", prob_s(A, 'S1'), \"\\tP(F=F2|S==S2)=\", inter_prob(A, 'F2', 'S2'), \"/\" ,prob_s(A, 'S2'), \"\\tP(F=F2|S==S3)=\", inter_prob(A, 'F2', 'S3'), \"/\", prob_s(A, 'S3'))\n",
        "  print(\"P(F=F3|S==S1)=\", inter_prob(A, 'F3', 'S1'), \"/\", prob_s(A, 'S1'), \"\\tP(F=F3|S==S2)=\", inter_prob(A, 'F3', 'S2'), \"/\" ,prob_s(A, 'S2'), \"\\tP(F=F3|S==S3)=\", inter_prob(A, 'F3', 'S3'), \"/\", prob_s(A, 'S3'))\n",
        "  print(\"P(F=F4|S==S1)=\", inter_prob(A, 'F4', 'S1'), \"/\", prob_s(A, 'S1'), \"\\tP(F=F4|S==S2)=\", inter_prob(A, 'F4', 'S2'), \"/\" ,prob_s(A, 'S2'), \"\\tP(F=F4|S==S3)=\", inter_prob(A, 'F4', 'S3'), \"/\", prob_s(A, 'S3'))\n",
        "  print(\"P(F=F5|S==S1)=\", inter_prob(A, 'F5', 'S1'), \"/\", prob_s(A, 'S1'), \"\\tP(F=F5|S==S2)=\", inter_prob(A, 'F5', 'S2'), \"/\" ,prob_s(A, 'S2'), \"\\tP(F=F5|S==S3)=\", inter_prob(A, 'F5', 'S3'), \"/\", prob_s(A, 'S3'))\n",
        "  \n",
        "\n",
        "A = [['F1','S1'],['F2','S2'],['F3','S3'],['F1','S2'],['F2','S3'],['F3','S2'],['F2','S1'],['F4','S1'],['F4','S3'],['F5','S1']]\n",
        "\n",
        "compute_conditional_probabilites(A)"
      ],
      "execution_count": 8,
      "outputs": [
        {
          "output_type": "stream",
          "name": "stdout",
          "text": [
            "P(F=F1|S==S1)= 1 / 4 \tP(F=F1|S==S2)= 1 / 3 \tP(F=F1|S==S3)= 0 / 3\n",
            "P(F=F2|S==S1)= 1 / 4 \tP(F=F2|S==S2)= 1 / 3 \tP(F=F2|S==S3)= 1 / 3\n",
            "P(F=F3|S==S1)= 0 / 4 \tP(F=F3|S==S2)= 1 / 3 \tP(F=F3|S==S3)= 1 / 3\n",
            "P(F=F4|S==S1)= 1 / 4 \tP(F=F4|S==S2)= 0 / 3 \tP(F=F4|S==S3)= 1 / 3\n",
            "P(F=F5|S==S1)= 1 / 4 \tP(F=F5|S==S2)= 0 / 3 \tP(F=F5|S==S3)= 0 / 3\n"
          ]
        }
      ]
    },
    {
      "cell_type": "markdown",
      "metadata": {
        "id": "n4HS87QmB-lF"
      },
      "source": [
        "<h3> Q9: Given two sentances S1, S2</h3>\n",
        "You will be given two sentances S1, S2 your task is to find \n",
        "<pre>\n",
        "a. Number of common words between S1, S2\n",
        "b. Words in S1 but not in S2\n",
        "c. Words in S2 but not in S1\n",
        "</pre>\n",
        "\n",
        "Ex: \n",
        "<pre>\n",
        "S1= \"the first column F will contain only 5 uniques values\"\n",
        "S2= \"the second column S will contain only 3 uniques values\"\n",
        "Output:\n",
        "a. 7\n",
        "b. ['first','F','5']\n",
        "c. ['second','S','3']\n",
        "</pre>"
      ]
    },
    {
      "cell_type": "code",
      "metadata": {
        "id": "Ez7hlHK0B-lG",
        "colab": {
          "base_uri": "https://localhost:8080/"
        },
        "outputId": "3c936f81-3952-4e04-d604-56eefccbe815"
      },
      "source": [
        "# write your python code here\n",
        "# you can take the above example as sample input for your program to test\n",
        "# it should work for any general input try not to hard code for only given input strings\n",
        "\n",
        "# you can free to change all these codes/structure\n",
        "def string_features(S1, S2):\n",
        "  S1 = S1.split(\" \")                 #splitting S1 and S2 by comma\n",
        "  S2 = S2.split(\" \")\n",
        "  count = 0                           # initialie count with zero\n",
        "  for i in S1:                        #iterating through elements in S1\n",
        "    if i in S2:                       #finding elements in S1 present in S2\n",
        "      count += 1                      #incrementing count\n",
        "  a=count\n",
        "\n",
        "  b=[i for i in S1 if i not in S2]     #List comprehensive with for loop with if condition to filter out elements in S1 but not in S2\n",
        "\n",
        "  c=[i for i in S2 if i not in S1]     #List comprehensive with for loop with if condition to filter out elements in S2 but not in S1\n",
        "\n",
        "  return a, b, c\n",
        "\n",
        "S1= \"the first column F will contain only 5 uniques values\"\n",
        "S2= \"the second column S will contain only 3 uniques values\"\n",
        "a,b,c = string_features(S1, S2)\n",
        "print(a, b, c)"
      ],
      "execution_count": 9,
      "outputs": [
        {
          "output_type": "stream",
          "name": "stdout",
          "text": [
            "7 ['first', 'F', '5'] ['second', 'S', '3']\n"
          ]
        }
      ]
    },
    {
      "cell_type": "markdown",
      "metadata": {
        "id": "XefXVEjCB-lI"
      },
      "source": [
        "<h3> Q10: Given two sentances S1, S2</h3>\n",
        "You will be given a list of lists, each sublist will be of length 2 i.e. [[x,y],[p,q],[l,m]..[r,s]]\n",
        "consider its like a martrix of n rows and two columns\n",
        "\n",
        "a. the first column Y will contain interger values <br>\n",
        "b. the second column $Y_{score}$ will be having float values <br>\n",
        "Your task is to find the value of $f(Y,Y_{score}) = -1*\\frac{1}{n}\\Sigma_{for each Y,Y_{score} pair}(Ylog10(Y_{score})+(1-Y)log10(1-Y_{score}))$ here n is the number of rows in the matrix\n",
        "<pre>\n",
        "Ex:\n",
        "[[1, 0.4], [0, 0.5], [0, 0.9], [0, 0.3], [0, 0.6], [1, 0.1], [1, 0.9], [1, 0.8]]\n",
        "output:\n",
        "0.4243099\n",
        "</pre>\n",
        "$\\frac{-1}{8}\\cdot((1\\cdot log_{10}(0.4)+0\\cdot log_{10}(0.6))+(0\\cdot log_{10}(0.5)+1\\cdot log_{10}(0.5)) + ... + (1\\cdot log_{10}(0.8)+0\\cdot log_{10}(0.2)) )$"
      ]
    },
    {
      "cell_type": "code",
      "metadata": {
        "id": "N9zkagyNB-lJ",
        "colab": {
          "base_uri": "https://localhost:8080/"
        },
        "outputId": "fe4f4ee0-0734-420f-ddb6-2e5475a51fa6"
      },
      "source": [
        "# write your python code here\n",
        "# you can take the above example as sample input for your program to test\n",
        "# it should work for any general input try not to hard code for only given input strings\n",
        "\n",
        "\n",
        "# you can free to change all these codes/structure\n",
        "\n",
        "def log(x, b):\n",
        "  res = (99999999*(x**(1/99999999)-1)) / (99999999*(b**(1/99999999)-1))\n",
        "  return res\n",
        "\n",
        "\n",
        "def compute_log_loss(A):\n",
        "  s=0\n",
        "  for i in A:                                                      #iterating through elements in A\n",
        "    s += (((i[0]*log(i[1], 10)) + ((1-i[0])*log(1-i[1], 10))))     #Applying formula\n",
        "  loss = (-s/len(A))\n",
        "  return loss\n",
        "\n",
        "A = [[1, 0.4], [0, 0.5], [0, 0.9], [0, 0.3], [0, 0.6], [1, 0.1], [1, 0.9], [1, 0.8]]\n",
        "loss = compute_log_loss(A)\n",
        "print(loss)"
      ],
      "execution_count": 10,
      "outputs": [
        {
          "output_type": "stream",
          "name": "stdout",
          "text": [
            "0.4243099249901754\n"
          ]
        }
      ]
    },
    {
      "cell_type": "code",
      "metadata": {
        "id": "sUshkkJ1TNy4"
      },
      "source": [
        ""
      ],
      "execution_count": 10,
      "outputs": []
    }
  ]
}