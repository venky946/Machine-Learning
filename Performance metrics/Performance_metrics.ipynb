{
  "nbformat": 4,
  "nbformat_minor": 0,
  "metadata": {
    "colab": {
      "name": "7. Compute Performance metrics without Sklearn.ipynb",
      "provenance": [],
      "collapsed_sections": []
    },
    "kernelspec": {
      "name": "python3",
      "display_name": "Python 3"
    },
    "language_info": {
      "name": "python"
    }
  },
  "cells": [
    {
      "cell_type": "code",
      "metadata": {
        "id": "JhfGPX_LnhsB"
      },
      "source": [
        "import numpy as np\n",
        "import pandas as pd\n",
        "import warnings\n",
        "warnings.filterwarnings('ignore')"
      ],
      "execution_count": 11,
      "outputs": []
    },
    {
      "cell_type": "code",
      "metadata": {
        "colab": {
          "base_uri": "https://localhost:8080/"
        },
        "id": "kPHEk6QYoBKC",
        "outputId": "3579edd7-fd8c-4199-cd31-38911d681af3"
      },
      "source": [
        "from google.colab import drive\n",
        "drive.mount('/content/drive')"
      ],
      "execution_count": 12,
      "outputs": [
        {
          "output_type": "stream",
          "name": "stdout",
          "text": [
            "Drive already mounted at /content/drive; to attempt to forcibly remount, call drive.mount(\"/content/drive\", force_remount=True).\n"
          ]
        }
      ]
    },
    {
      "cell_type": "markdown",
      "metadata": {
        "id": "iAQQWY4AToVv"
      },
      "source": [
        "<h1>7_a</h1>"
      ]
    },
    {
      "cell_type": "code",
      "metadata": {
        "id": "Sr-MAYVPnmBt"
      },
      "source": [
        "df_a = pd.read_csv('/content/drive/My Drive/Dataset/5_Performance_metrics/5_a.csv')"
      ],
      "execution_count": 13,
      "outputs": []
    },
    {
      "cell_type": "code",
      "metadata": {
        "id": "D2HGOVHMo6-o"
      },
      "source": [
        "#normalizing proba column and add it to new column y_bar\n",
        "\n",
        "#https://gist.github.com/pierdom/cab3e44641442cf2c69dc1ead59df0ff\n",
        "df_a[\"y_bar\"] = np.where((df_a.proba < 0.5), 0, 1)"
      ],
      "execution_count": 14,
      "outputs": []
    },
    {
      "cell_type": "code",
      "metadata": {
        "colab": {
          "base_uri": "https://localhost:8080/"
        },
        "id": "X4nuYllcpPdL",
        "outputId": "68ef8909-3acd-465c-99af-64ef2825178f"
      },
      "source": [
        "#calculate true positive, false positive, true negative, false negative\n",
        "tp = df_a[(df_a['y'] == 1) & (df_a['y_bar'] == 1)]['y'].count()\n",
        "fp = df_a[(df_a['y'] == 0) & (df_a['y_bar'] == 1)]['y'].count()\n",
        "tn = df_a[(df_a['y'] == 0) & (df_a['y_bar'] == 0)]['y'].count()\n",
        "fn = df_a[(df_a['y'] == 1) & (df_a['y_bar'] == 0)]['y'].count()\n",
        "print(tp, fp, tn, fn)"
      ],
      "execution_count": 15,
      "outputs": [
        {
          "output_type": "stream",
          "name": "stdout",
          "text": [
            "10000 100 0 0\n"
          ]
        }
      ]
    },
    {
      "cell_type": "markdown",
      "metadata": {
        "id": "zYRW82tW9IeC"
      },
      "source": [
        "Confusion Matrix"
      ]
    },
    {
      "cell_type": "code",
      "metadata": {
        "colab": {
          "base_uri": "https://localhost:8080/"
        },
        "id": "3tiDLdeZsmDo",
        "outputId": "a2841312-39e5-4f8a-ece9-7e1f812e1f3c"
      },
      "source": [
        "#confusion matrix\n",
        "con_mat = [[tn, fn], [fp, tp]]\n",
        "print('Confusion matrix ', con_mat)"
      ],
      "execution_count": 16,
      "outputs": [
        {
          "output_type": "stream",
          "name": "stdout",
          "text": [
            "Confusion matrix  [[0, 0], [100, 10000]]\n"
          ]
        }
      ]
    },
    {
      "cell_type": "markdown",
      "metadata": {
        "id": "VUh5sDud9L29"
      },
      "source": [
        "F1 - Score"
      ]
    },
    {
      "cell_type": "code",
      "metadata": {
        "colab": {
          "base_uri": "https://localhost:8080/"
        },
        "id": "hZdZtz1A-CsI",
        "outputId": "1b0edd88-933f-43c6-9ca9-3d70f0ad31be"
      },
      "source": [
        "#precision\n",
        "pr = tp/(tp+fp)\n",
        "\n",
        "#Recall\n",
        "re = tp / (df_a[df_a['y'] == 1]['y'].count())\n",
        "\n",
        "#F1_scores\n",
        "f1_a = 2*((pr*re)/(pr+re))\n",
        "print('F1_scores ', f1_a)"
      ],
      "execution_count": 17,
      "outputs": [
        {
          "output_type": "stream",
          "name": "stdout",
          "text": [
            "F1_scores  0.9950248756218906\n"
          ]
        }
      ]
    },
    {
      "cell_type": "markdown",
      "metadata": {
        "id": "h3SOUU4V-Vz4"
      },
      "source": [
        "AUC Score"
      ]
    },
    {
      "cell_type": "code",
      "metadata": {
        "id": "skeZYzyiHNcy",
        "colab": {
          "base_uri": "https://localhost:8080/"
        },
        "outputId": "650e99fd-166f-487e-e82b-4efe91653be8"
      },
      "source": [
        "#creating two empty list\n",
        "tpr_array = []\n",
        "fpr_array= []\n",
        "#sorting proba column in descending order\n",
        "df_a.sort_values(by=['proba'], inplace=True, ascending=False)\n",
        "#iterating through rows of df_a\n",
        "for i in range(len(df_a)):\n",
        "  #initializing tou values with each proba\n",
        "  tou = df_a.iloc[i, 1]\n",
        "  #normalizing proba column and add it to new column y_bar\n",
        "  df_a[\"y_bar\"] = np.where((df_a.proba < tou), 0, 1)\n",
        "  #finding true positive and false positive\n",
        "  tp = df_a[(df_a['y'] == 1) & (df_a['y_bar'] == 1)]['y'].count()\n",
        "  fp = df_a[(df_a['y'] == 0) & (df_a['y_bar'] == 1)]['y'].count()\n",
        "\n",
        "  #appending true positive rate and false positive rate to its respective lists\n",
        "  tpr_array.append(tp / (df_a[df_a['y'] == 1]['y'].count()))\n",
        "  fpr_array.append(fp / (df_a[df_a['y'] == 0]['y'].count()))\n",
        "\n",
        "#passing tpr and fpr to trapz method of numpy\n",
        "print('AUC Score ', np.trapz(tpr_array, fpr_array))"
      ],
      "execution_count": 18,
      "outputs": [
        {
          "output_type": "stream",
          "name": "stdout",
          "text": [
            "AUC Score  0.48829900000000004\n"
          ]
        }
      ]
    },
    {
      "cell_type": "markdown",
      "metadata": {
        "id": "JhnHa2xI9RH-"
      },
      "source": [
        "Accuracy"
      ]
    },
    {
      "cell_type": "code",
      "metadata": {
        "colab": {
          "base_uri": "https://localhost:8080/"
        },
        "id": "F9_Xs2nVGgZ6",
        "outputId": "9d48ce2b-c729-432d-e618-e4f0767db79c"
      },
      "source": [
        "#accuracy\n",
        "acc_a = (tp+tn) / df_a.shape[0]\n",
        "print('Accuracy ', acc_a)"
      ],
      "execution_count": 19,
      "outputs": [
        {
          "output_type": "stream",
          "name": "stdout",
          "text": [
            "Accuracy  0.9900990099009901\n"
          ]
        }
      ]
    },
    {
      "cell_type": "markdown",
      "metadata": {
        "id": "Asg8vBWQTht3"
      },
      "source": [
        "<h1>7_b</h1>"
      ]
    },
    {
      "cell_type": "code",
      "metadata": {
        "id": "RimNj6s3So39"
      },
      "source": [
        "df_b = pd.read_csv('/content/drive/My Drive/Dataset/5_Performance_metrics/5_b.csv')"
      ],
      "execution_count": 20,
      "outputs": []
    },
    {
      "cell_type": "code",
      "metadata": {
        "id": "CILXKEioT2dX"
      },
      "source": [
        "#normalizing proba column and add it to new column y_bar\n",
        "df_b['y_bar'] = np.where((df_b.proba < 0.5), 0, 1)"
      ],
      "execution_count": 21,
      "outputs": []
    },
    {
      "cell_type": "code",
      "metadata": {
        "id": "OkdwPn--UQkf"
      },
      "source": [
        "#calculate true positive, false positive, true negative, false negative\n",
        "tp_b = df_b[(df_b['y'] == 1) & (df_b['y_bar'] == 1)]['y'].count()\n",
        "fp_b = df_b[(df_b['y'] == 0) & (df_b['y_bar'] == 1)]['y'].count()\n",
        "tn_b = df_b[(df_b['y'] == 0) & (df_b['y_bar'] == 0)]['y'].count()\n",
        "fn_b = df_b[(df_b['y'] == 1) & (df_b['y_bar'] == 0)]['y'].count()"
      ],
      "execution_count": 22,
      "outputs": []
    },
    {
      "cell_type": "markdown",
      "metadata": {
        "id": "6EEBPAHF9auU"
      },
      "source": [
        "Confusion Matrix"
      ]
    },
    {
      "cell_type": "code",
      "metadata": {
        "colab": {
          "base_uri": "https://localhost:8080/"
        },
        "id": "BpmZEoN9VTMe",
        "outputId": "de629ba1-faa1-4c66-b56f-f64806c0e08c"
      },
      "source": [
        "#confusion matrix\n",
        "con_mat_b = [[tn_b, fn_b], [fp_b, tp_b]]\n",
        "print('Confusion Matrix' ,con_mat_b)"
      ],
      "execution_count": 23,
      "outputs": [
        {
          "output_type": "stream",
          "name": "stdout",
          "text": [
            "Confusion Matrix [[9761, 45], [239, 55]]\n"
          ]
        }
      ]
    },
    {
      "cell_type": "markdown",
      "metadata": {
        "id": "w6lrhsK39gD1"
      },
      "source": [
        "F1 - Score"
      ]
    },
    {
      "cell_type": "code",
      "metadata": {
        "colab": {
          "base_uri": "https://localhost:8080/"
        },
        "id": "EmLNnbTKVubx",
        "outputId": "ce193ab6-4894-45ac-c7eb-41131ba5ac62"
      },
      "source": [
        "#Precision\n",
        "pr_b = tp_b/(tp_b+fp_b)\n",
        "\n",
        "#Recall\n",
        "re_b = tp_b / (df_b[df_b['y'] == 1]['y'].count())\n",
        "\n",
        "#F1 score\n",
        "f1_b = 2*((pr_b*re_b)/(pr_b+re_b))\n",
        "print('F1 - Score ', f1_b)"
      ],
      "execution_count": 24,
      "outputs": [
        {
          "output_type": "stream",
          "name": "stdout",
          "text": [
            "F1 - Score  0.2791878172588833\n"
          ]
        }
      ]
    },
    {
      "cell_type": "code",
      "metadata": {
        "colab": {
          "base_uri": "https://localhost:8080/"
        },
        "id": "QrzeqYRyWNit",
        "outputId": "3344ed5e-2325-4c35-cc75-0190eff5fbed"
      },
      "source": [
        "#creating two empty list\n",
        "tpr_array_b = []\n",
        "fpr_array_b= []\n",
        "#sorting proba column in descending order\n",
        "df_b.sort_values(by=['proba'], inplace=True, ascending=False)\n",
        "#iterating through rows of df_b\n",
        "for i in range(len(df_b)):\n",
        "  #initializing tou values with each proba\n",
        "  tou = df_b.iloc[i, 1]\n",
        "  #normalizing proba column and add it to new column y_bar\n",
        "  df_b[\"y_bar\"] = np.where((df_b.proba < tou), 0, 1)\n",
        "\n",
        "  #finding true positive and false positive\n",
        "  tp_b = df_b[(df_b['y'] == 1) & (df_b['y_bar'] == 1)]['y'].count()\n",
        "  fp_b = df_b[(df_b['y'] == 0) & (df_b['y_bar'] == 1)]['y'].count()\n",
        "\n",
        "  #appending true positive rate and false positive rate to its respective lists\n",
        "  tpr_array_b.append(tp_b / (df_b[df_b['y'] == 1]['y'].count()))\n",
        "  fpr_array_b.append(fp_b / (df_b[df_b['y'] == 0]['y'].count()))\n",
        "\n",
        "#passing tpr and fpr to trapz method of numpy\n",
        "print('AUC Score ', np.trapz(tpr_array_b, fpr_array_b))"
      ],
      "execution_count": 25,
      "outputs": [
        {
          "output_type": "stream",
          "name": "stdout",
          "text": [
            "AUC Score  0.9377570000000001\n"
          ]
        }
      ]
    },
    {
      "cell_type": "markdown",
      "metadata": {
        "id": "8UM7wihk9rUl"
      },
      "source": [
        "Accuracy"
      ]
    },
    {
      "cell_type": "code",
      "metadata": {
        "colab": {
          "base_uri": "https://localhost:8080/"
        },
        "id": "Z_iadsueWxix",
        "outputId": "c92e05b1-a037-4d83-a9f3-0ebbe4b47651"
      },
      "source": [
        "#Accuracy\n",
        "acc_b = (tp_b+tn_b) / df_b.shape[0]\n",
        "print('Accuracy ', acc_b)"
      ],
      "execution_count": 26,
      "outputs": [
        {
          "output_type": "stream",
          "name": "stdout",
          "text": [
            "Accuracy  0.9763366336633663\n"
          ]
        }
      ]
    },
    {
      "cell_type": "markdown",
      "metadata": {
        "id": "ZJQnFYdnXHyT"
      },
      "source": [
        "<h1>7_c</h1>"
      ]
    },
    {
      "cell_type": "code",
      "metadata": {
        "id": "GUwSLdqAXJpM"
      },
      "source": [
        "df_c = pd.read_csv('/content/drive/My Drive/Dataset/5_Performance_metrics/5_c.csv')"
      ],
      "execution_count": 27,
      "outputs": []
    },
    {
      "cell_type": "code",
      "metadata": {
        "id": "wv4PQ61QXQjN"
      },
      "source": [
        "#creating empty list\n",
        "A = []\n",
        "#sorting proba column in descending order\n",
        "df_c.sort_values(by=['prob'], inplace=True, ascending=False)\n",
        "#iterating through rows of df_c\n",
        "for i in range(len(df_c)):\n",
        "  #initializing tou values with each proba\n",
        "  tou = df_c.iloc[i, 1]\n",
        "  #normalizing proba column and add it to new column y_bar\n",
        "  df_c[\"y_bar\"] = np.where((df_c.prob < tou), 0, 1)\n",
        "\n",
        "  #finding true positive and false positive\n",
        "  fn_c = df_c[(df_c['y'] == 1) & (df_c['y_bar'] == 0)]['y'].count()\n",
        "  fp_c = df_c[(df_c['y'] == 0) & (df_c['y_bar'] == 1)]['y'].count()\n",
        "\n",
        "  #appending the false negative and false positive to list\n",
        "  A.append((500*fn_c) + (100*fp_c))"
      ],
      "execution_count": 28,
      "outputs": []
    },
    {
      "cell_type": "code",
      "metadata": {
        "colab": {
          "base_uri": "https://localhost:8080/"
        },
        "id": "XOj0tG2_cnO6",
        "outputId": "548d128c-9545-4106-ca60-cf56837ac631"
      },
      "source": [
        "#calculate best thershold\n",
        "print(\"Best threshold is \", df_c.iloc[A.index(min(A)), 1])"
      ],
      "execution_count": 29,
      "outputs": [
        {
          "output_type": "stream",
          "name": "stdout",
          "text": [
            "Best threshold is  0.2300390278970873\n"
          ]
        }
      ]
    },
    {
      "cell_type": "markdown",
      "metadata": {
        "id": "hDcuJajpzv5i"
      },
      "source": [
        "# <h1>7_d<h1>"
      ]
    },
    {
      "cell_type": "code",
      "metadata": {
        "id": "5HVK63pJmxFe"
      },
      "source": [
        "df_d = pd.read_csv('/content/drive/My Drive/Dataset/5_Performance_metrics/5_d.csv')"
      ],
      "execution_count": 30,
      "outputs": []
    },
    {
      "cell_type": "code",
      "metadata": {
        "colab": {
          "base_uri": "https://localhost:8080/"
        },
        "id": "13UI_AWw0KQt",
        "outputId": "1ad6d919-e123-4212-83bd-6389fe7407d3"
      },
      "source": [
        "#initialize required variables to zero\n",
        "err = yb = ss_r = abs_err = act = 0\n",
        "#iterating through rows of df_d\n",
        "for i in range(len(df_d)):\n",
        "  #calculate error\n",
        "  err += (df_d.iloc[i, 0] - df_d.iloc[i, 1])**2\n",
        "\n",
        "  yb += (df_d.iloc[i, 0] - y_mean)**2\n",
        "\n",
        "  #calculate sum of squared error\n",
        "  ss_r += (df_d.iloc[i, 0] - df_d.iloc[i, 1])**2\n",
        "\n",
        "  abs_err += abs(df_d.iloc[i, 1] - df_d.iloc[i, 0])\n",
        "  act += df_d.iloc[i, 0]\n",
        "\n",
        "print(\"Mean square Error = \", err/len(df_d))\n",
        "print(\"Mean Absolute Percentage Error is \", abs_err/act)\n",
        "print(\"R-Square is \", 1-(ss_r / yb))\n"
      ],
      "execution_count": 32,
      "outputs": [
        {
          "output_type": "stream",
          "name": "stdout",
          "text": [
            "Mean square Error =  177.16569974554707\n",
            "Mean Absolute Percentage Error is  0.1291202994009687\n",
            "R-Square is  0.9563582786990964\n"
          ]
        }
      ]
    },
    {
      "cell_type": "code",
      "metadata": {
        "id": "xwZtldqPXnsF"
      },
      "source": [
        ""
      ],
      "execution_count": 32,
      "outputs": []
    }
  ]
}