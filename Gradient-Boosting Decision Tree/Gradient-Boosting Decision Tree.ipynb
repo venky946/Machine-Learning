{
  "nbformat": 4,
  "nbformat_minor": 0,
  "metadata": {
    "colab": {
      "name": "13. Apply GBDT on Donors Choose dataset.ipynb",
      "provenance": [],
      "collapsed_sections": []
    },
    "kernelspec": {
      "name": "python3",
      "display_name": "Python 3"
    },
    "language_info": {
      "name": "python"
    },
    "accelerator": "GPU"
  },
  "cells": [
    {
      "cell_type": "code",
      "metadata": {
        "id": "kYc1AsG9jTZX"
      },
      "source": [
        "import pandas as pd\n",
        "import numpy as np\n",
        "import seaborn as sns\n",
        "from sklearn.feature_extraction.text import CountVectorizer\n",
        "from sklearn.feature_extraction.text import TfidfVectorizer\n",
        "from sklearn.preprocessing import Normalizer\n",
        "from sklearn.preprocessing import StandardScaler\n",
        "from sklearn.model_selection import train_test_split\n",
        "from scipy.sparse import hstack\n",
        "from scipy import sparse\n",
        "from sklearn.tree import DecisionTreeClassifier\n",
        "from sklearn.ensemble import GradientBoostingClassifier\n",
        "from sklearn.model_selection import GridSearchCV\n",
        "from sklearn.model_selection import RandomizedSearchCV\n",
        "from sklearn.metrics import roc_curve, auc\n",
        "import matplotlib.pyplot as plt\n",
        "import pickle\n",
        "from tqdm import tqdm\n",
        "import warnings\n",
        "warnings.filterwarnings('ignore')\n",
        "from xgboost import XGBClassifier"
      ],
      "execution_count": null,
      "outputs": []
    },
    {
      "cell_type": "code",
      "metadata": {
        "colab": {
          "base_uri": "https://localhost:8080/"
        },
        "id": "RH1ors5Ak7UU",
        "outputId": "107c851d-4c00-493d-c892-87b949568192"
      },
      "source": [
        "from google.colab import drive\n",
        "drive.mount('/content/drive')"
      ],
      "execution_count": null,
      "outputs": [
        {
          "output_type": "stream",
          "name": "stdout",
          "text": [
            "Mounted at /content/drive\n"
          ]
        }
      ]
    },
    {
      "cell_type": "code",
      "metadata": {
        "id": "SL50Gb-yk2uy"
      },
      "source": [
        "data = pd.read_csv('/content/drive/My Drive/Dataset/9_Donors_choose_DT/preprocessed_data.csv')"
      ],
      "execution_count": null,
      "outputs": []
    },
    {
      "cell_type": "code",
      "metadata": {
        "colab": {
          "base_uri": "https://localhost:8080/"
        },
        "id": "i5DVWqYEqWnM",
        "outputId": "00d4c4e5-22c4-4783-95cc-9872421139ca"
      },
      "source": [
        "import nltk\n",
        "nltk.download('vader_lexicon')"
      ],
      "execution_count": null,
      "outputs": [
        {
          "output_type": "stream",
          "name": "stdout",
          "text": [
            "[nltk_data] Downloading package vader_lexicon to /root/nltk_data...\n"
          ]
        },
        {
          "output_type": "execute_result",
          "data": {
            "text/plain": [
              "True"
            ]
          },
          "metadata": {},
          "execution_count": 4
        }
      ]
    },
    {
      "cell_type": "code",
      "metadata": {
        "id": "EB9KB5TPqbXi"
      },
      "source": [
        "#importing nltk SentimentIntensityAnalyzer to analysis sentiment values\n",
        "import nltk\n",
        "from nltk.sentiment.vader import SentimentIntensityAnalyzer\n",
        "\n",
        "#creating instance for SentimentIntensityAnalyzer\n",
        "sid = SentimentIntensityAnalyzer()"
      ],
      "execution_count": null,
      "outputs": []
    },
    {
      "cell_type": "code",
      "metadata": {
        "id": "VkOulFm544zc"
      },
      "source": [
        "#getting essay values from dataset\n",
        "e = data['essay'].values"
      ],
      "execution_count": null,
      "outputs": []
    },
    {
      "cell_type": "code",
      "metadata": {
        "id": "sdpIIcnkw-a4"
      },
      "source": [
        "#calculate sentiment values for essay and sum and store in list using list comprehensive\n",
        "lst = [sum(sid.polarity_scores(e[i]).values()) for i in range(len(data))]"
      ],
      "execution_count": null,
      "outputs": []
    },
    {
      "cell_type": "code",
      "metadata": {
        "id": "sUsMVECV7HMR"
      },
      "source": [
        "#adding new column to dataset as po contains sum of sentiment values\n",
        "data['po'] = np.array(lst)"
      ],
      "execution_count": null,
      "outputs": []
    },
    {
      "cell_type": "code",
      "metadata": {
        "colab": {
          "base_uri": "https://localhost:8080/"
        },
        "id": "kbGS3t4jOdhL",
        "outputId": "8f0dc625-0f17-47ec-e41a-ec33c77a508f"
      },
      "source": [
        "data.columns"
      ],
      "execution_count": null,
      "outputs": [
        {
          "output_type": "execute_result",
          "data": {
            "text/plain": [
              "Index(['school_state', 'teacher_prefix', 'project_grade_category',\n",
              "       'teacher_number_of_previously_posted_projects', 'project_is_approved',\n",
              "       'clean_categories', 'clean_subcategories', 'essay', 'price', 'po'],\n",
              "      dtype='object')"
            ]
          },
          "metadata": {
            "tags": []
          },
          "execution_count": 9
        }
      ]
    },
    {
      "cell_type": "code",
      "metadata": {
        "id": "Xc1q4XfVmnTB"
      },
      "source": [
        "#define x and y values\n",
        "x = data.drop(['project_is_approved'], axis=1)\n",
        "y = data['project_is_approved'].values"
      ],
      "execution_count": null,
      "outputs": []
    },
    {
      "cell_type": "code",
      "metadata": {
        "id": "8WD7J82-oAD3"
      },
      "source": [
        "#splitting data to train and test using train_test_split\n",
        "x_train, x_test, y_train, y_test = train_test_split(x, y, test_size = 0.33, stratify = y)"
      ],
      "execution_count": null,
      "outputs": []
    },
    {
      "cell_type": "code",
      "metadata": {
        "id": "MQXAxNjiRCE2"
      },
      "source": [
        "#response coding function\n",
        "def response_cod(x_train, y_train, feature):\n",
        "  #creating empty dictionary\n",
        "  dictionary = dict()\n",
        "  #getting uniqui values from x_train data\n",
        "  unique_features = x_train[feature].unique()\n",
        "  #iterating through unique_features\n",
        "  for i in range(len(unique_features)):\n",
        "\n",
        "    #calculate count of each unique_features\n",
        "    t_count = x_train.loc[:,feature][(x_train[feature] == unique_features[i])].count()\n",
        "\n",
        "    #getting probability value of class label = 0 and 1\n",
        "    p_0 = x_train.loc[:,feature][((x_train[feature] == unique_features[i]) & (y_train == 0))].count()\n",
        "    p_1 = x_train.loc[:,feature][((x_train[feature] == unique_features[i]) & (y_train == 1))].count()\n",
        "\n",
        "    #adding those probability values of unique_values into dictionary as key value pair\n",
        "    dictionary[unique_features[i]] = [p_0/t_count, p_1/t_count]\n",
        "  #calculate values count of features\n",
        "  value_count = x_train[feature].value_counts()\n",
        "  #creating empty list\n",
        "  lst = []\n",
        "\n",
        "  #iterate through index and row of x_train\n",
        "  for index, row in x_train.iterrows():\n",
        "    #check the feature is available in value count dictionary \n",
        "    if row[feature] in dict(value_count).keys():\n",
        "        #adding probability values of features to list\n",
        "        lst.append(dictionary[row[feature]])\n",
        "    else:\n",
        "        #if feature not available in value count dictionary add 0.5 as probability values for both class label\n",
        "        lst.append([1/2,1/2])\n",
        "\n",
        "  #returing list\n",
        "  return lst"
      ],
      "execution_count": null,
      "outputs": []
    },
    {
      "cell_type": "code",
      "metadata": {
        "id": "efUnYF2A7cGj",
        "colab": {
          "base_uri": "https://localhost:8080/"
        },
        "outputId": "e05adf32-9f50-4fe9-b795-9096dabb814f"
      },
      "source": [
        "#create tfidfvectorizer with below parameters to encode essay\n",
        "from sklearn.feature_extraction.text import TfidfVectorizer\n",
        "TF = TfidfVectorizer(min_df=10, ngram_range=(1,4), max_features=2500)\n",
        "\n",
        "#fit using train data\n",
        "TF.fit(x_train['essay'].values)"
      ],
      "execution_count": null,
      "outputs": [
        {
          "output_type": "execute_result",
          "data": {
            "text/plain": [
              "TfidfVectorizer(analyzer='word', binary=False, decode_error='strict',\n",
              "                dtype=<class 'numpy.float64'>, encoding='utf-8',\n",
              "                input='content', lowercase=True, max_df=1.0, max_features=2500,\n",
              "                min_df=10, ngram_range=(1, 4), norm='l2', preprocessor=None,\n",
              "                smooth_idf=True, stop_words=None, strip_accents=None,\n",
              "                sublinear_tf=False, token_pattern='(?u)\\\\b\\\\w\\\\w+\\\\b',\n",
              "                tokenizer=None, use_idf=True, vocabulary=None)"
            ]
          },
          "metadata": {},
          "execution_count": 12
        }
      ]
    },
    {
      "cell_type": "code",
      "metadata": {
        "id": "SjsIMlys1BaA"
      },
      "source": [
        "#Transform train and test esaay values\n",
        "x_train_essay_tfidf = TF.transform(x_train['essay'].values)\n",
        "x_test_essay_tfidf = TF.transform(x_test['essay'].values)"
      ],
      "execution_count": null,
      "outputs": []
    },
    {
      "cell_type": "code",
      "metadata": {
        "id": "gRIhCsxU5naZ"
      },
      "source": [
        "#standardizing teacher_number_of_previously_posted_projects as it is numerical features\n",
        "std = StandardScaler()\n",
        "std.fit(x_train['teacher_number_of_previously_posted_projects'].values.reshape(-1,1))\n",
        "\n",
        "x_train_nopp_std = std.transform(x_train['teacher_number_of_previously_posted_projects'].values.reshape(-1,1))\n",
        "x_test_nopp_std = std.transform(x_test['teacher_number_of_previously_posted_projects'].values.reshape(-1,1))"
      ],
      "execution_count": null,
      "outputs": []
    },
    {
      "cell_type": "code",
      "metadata": {
        "id": "HmbskTxH6pjJ"
      },
      "source": [
        "#standardizing price as it is numerical features\n",
        "std = StandardScaler()\n",
        "std.fit(x_train['price'].values.reshape(-1,1))\n",
        "\n",
        "x_train_price_std = std.transform(x_train['price'].values.reshape(-1,1))\n",
        "x_test_price_std = std.transform(x_test['price'].values.reshape(-1,1))"
      ],
      "execution_count": null,
      "outputs": []
    },
    {
      "cell_type": "code",
      "metadata": {
        "id": "GxuqlUsp6n2n"
      },
      "source": [
        "#standardizing po as it is numerical features\n",
        "std.fit(x_train['po'].values.reshape(-1,1))\n",
        "\n",
        "x_train_po_std = std.transform(x_train['po'].values.reshape(-1,1))\n",
        "x_test_po_std = std.transform(x_test['po'].values.reshape(-1,1))"
      ],
      "execution_count": null,
      "outputs": []
    },
    {
      "cell_type": "code",
      "metadata": {
        "id": "cFu8-_wF15a-"
      },
      "source": [
        "#encoding school state using response coding\n",
        "x_train_school_state_res = np.array(response_cod(x_train, y_train, 'school_state'))\n",
        "x_test_school_state_res = np.array(response_cod(x_test, y_test, 'school_state'))"
      ],
      "execution_count": null,
      "outputs": []
    },
    {
      "cell_type": "code",
      "metadata": {
        "id": "afgpQT1yEwa-"
      },
      "source": [
        "#encoding teacher_prefix using response coding\n",
        "x_train_teacher_prefix_rescod = np.array(response_cod(x_train, y_train, 'teacher_prefix'))\n",
        "x_test_teacher_prefix_rescod = np.array(response_cod(x_test, y_test, 'teacher_prefix'))"
      ],
      "execution_count": null,
      "outputs": []
    },
    {
      "cell_type": "code",
      "metadata": {
        "id": "Xo2TNezoFAkE"
      },
      "source": [
        "#encoding project_grade_category using response coding\n",
        "x_train_project_grade_category_rescod = np.array(response_cod(x_train, y_train, 'project_grade_category'))\n",
        "x_test_project_grade_category_rescod = np.array(response_cod(x_test, y_test, 'project_grade_category'))"
      ],
      "execution_count": null,
      "outputs": []
    },
    {
      "cell_type": "code",
      "metadata": {
        "id": "SgQNpGV3FSo2"
      },
      "source": [
        "#encoding clean_categories using response coding\n",
        "x_train_clean_categories_rescod = np.array(response_cod(x_train, y_train, 'clean_categories'))\n",
        "x_test_clean_categories_rescod = np.array(response_cod(x_test, y_test, 'clean_categories'))"
      ],
      "execution_count": null,
      "outputs": []
    },
    {
      "cell_type": "code",
      "metadata": {
        "id": "SAcO8yIgFjVU"
      },
      "source": [
        "#encoding clean_subcategories using response coding\n",
        "x_train_clean_subcategories_rescod = np.array(response_cod(x_train, y_train, 'clean_subcategories'))\n",
        "x_test_clean_subcategories_rescod = np.array(response_cod(x_test, y_test, 'clean_subcategories'))"
      ],
      "execution_count": null,
      "outputs": []
    },
    {
      "cell_type": "code",
      "metadata": {
        "id": "WuoZPU2eSjDA"
      },
      "source": [
        "x_tr = hstack((x_train_essay_tfidf, x_train_nopp_std, x_train_price_std, x_train_po_std, x_train_school_state_res, x_train_teacher_prefix_rescod, x_train_project_grade_category_rescod, x_train_clean_categories_rescod, x_train_clean_subcategories_rescod)).tocsr()\n",
        "x_te = hstack((x_test_essay_tfidf, x_test_nopp_std, x_test_price_std, x_test_po_std, x_test_school_state_res, x_test_teacher_prefix_rescod, x_test_project_grade_category_rescod, x_test_clean_categories_rescod, x_test_clean_subcategories_rescod)).tocsr()"
      ],
      "execution_count": null,
      "outputs": []
    },
    {
      "cell_type": "markdown",
      "metadata": {
        "id": "FWf-gv8iYMO-"
      },
      "source": [
        "XGBoost"
      ]
    },
    {
      "cell_type": "code",
      "metadata": {
        "colab": {
          "base_uri": "https://localhost:8080/"
        },
        "id": "5u6SiuaQYJ5J",
        "outputId": "045aa57e-410f-4c85-8e61-7afe8857e39a"
      },
      "source": [
        "from xgboost import XGBClassifier\n",
        "#creating instance for XGBClassifier\n",
        "xgbrs = XGBClassifier()\n",
        "\n",
        "#setting parameters for hyperparameters tuning\n",
        "param = {'n_estimators' : [8,16,32,64], 'max_depth' : [3,4,5,6]}\n",
        "\n",
        "#Hyperparameter tuning using RandomizedSearchCV\n",
        "rs2 = RandomizedSearchCV(xgbrs, param_distributions = param, cv=5, n_jobs=-1, return_train_score=True, scoring='roc_auc')\n",
        "\n",
        "#fit with train data\n",
        "rs2.fit(x_tr, y_train)"
      ],
      "execution_count": null,
      "outputs": [
        {
          "output_type": "execute_result",
          "data": {
            "text/plain": [
              "RandomizedSearchCV(cv=5, error_score=nan,\n",
              "                   estimator=XGBClassifier(base_score=0.5, booster='gbtree',\n",
              "                                           colsample_bylevel=1,\n",
              "                                           colsample_bynode=1,\n",
              "                                           colsample_bytree=1, gamma=0,\n",
              "                                           learning_rate=0.1, max_delta_step=0,\n",
              "                                           max_depth=3, min_child_weight=1,\n",
              "                                           missing=None, n_estimators=100,\n",
              "                                           n_jobs=1, nthread=None,\n",
              "                                           objective='binary:logistic',\n",
              "                                           random_state=0, reg_alpha=0,\n",
              "                                           reg_lambda=1, scale_pos_weight=1,\n",
              "                                           seed=None, silent=None, subsample=1,\n",
              "                                           verbosity=1),\n",
              "                   iid='deprecated', n_iter=10, n_jobs=-1,\n",
              "                   param_distributions={'max_depth': [3, 4, 5, 6],\n",
              "                                        'n_estimators': [8, 16, 32, 64]},\n",
              "                   pre_dispatch='2*n_jobs', random_state=None, refit=True,\n",
              "                   return_train_score=True, scoring='roc_auc', verbose=0)"
            ]
          },
          "metadata": {},
          "execution_count": 30
        }
      ]
    },
    {
      "cell_type": "code",
      "metadata": {
        "colab": {
          "base_uri": "https://localhost:8080/"
        },
        "id": "O0hcdRyAYJ5L",
        "outputId": "ef2592ba-4f1d-46fa-fb91-f1188e023b8f"
      },
      "source": [
        "#getting best parameters and best score of model\n",
        "print(rs2.best_params_)\n",
        "print(rs2.best_score_)"
      ],
      "execution_count": null,
      "outputs": [
        {
          "output_type": "stream",
          "name": "stdout",
          "text": [
            "{'n_estimators': 64, 'max_depth': 6}\n",
            "0.7196402554382277\n"
          ]
        }
      ]
    },
    {
      "cell_type": "code",
      "metadata": {
        "id": "YYVimdrcYJ5M"
      },
      "source": [
        "#getting total result of model\n",
        "result = pd.DataFrame.from_dict(rs2.cv_results_)"
      ],
      "execution_count": null,
      "outputs": []
    },
    {
      "cell_type": "code",
      "metadata": {
        "colab": {
          "base_uri": "https://localhost:8080/"
        },
        "id": "pzWGM3X4YJ5M",
        "outputId": "ffd8744e-e298-4aca-a28c-b7697df9b6c8"
      },
      "source": [
        "#getting train and test AUC from result\n",
        "train_auc= result['mean_train_score']\n",
        "test_auc = result['mean_test_score']\n",
        "print(\"Test Data AUC \", test_auc)"
      ],
      "execution_count": null,
      "outputs": [
        {
          "output_type": "stream",
          "name": "stdout",
          "text": [
            "Test Data AUC  0    0.655878\n",
            "1    0.662440\n",
            "2    0.702157\n",
            "3    0.683603\n",
            "4    0.678121\n",
            "5    0.716273\n",
            "6    0.703828\n",
            "7    0.661713\n",
            "8    0.646117\n",
            "9    0.719640\n",
            "Name: mean_test_score, dtype: float64\n"
          ]
        }
      ]
    },
    {
      "cell_type": "code",
      "metadata": {
        "colab": {
          "base_uri": "https://localhost:8080/",
          "height": 361
        },
        "id": "PhnYxY0FM2jg",
        "outputId": "92c43756-2d73-4d3b-87f1-ae52f0ec896a"
      },
      "source": [
        "pi = result.pivot('param_n_estimators', 'param_max_depth', 'mean_test_score')\n",
        "plt.figure(figsize=(15,5))\n",
        "sns.heatmap(pi, annot=True, linecolor='blue', linewidths=3)\n",
        "plt.title('Heatmap of Max_depth Vs n_estimators with TFIDF', fontsize = 20) # title with fontsize 20\n",
        "plt.xlabel('max_depth', fontsize = 15) # x-axis label with fontsize 15\n",
        "plt.ylabel('n_estimators', fontsize = 15) # y-axis label with fontsize 15\n",
        "plt.show()"
      ],
      "execution_count": null,
      "outputs": [
        {
          "output_type": "display_data",
          "data": {
            "image/png": "[encoded data removed]",
            "text/plain": [
              "<Figure size 1080x360 with 2 Axes>"
            ]
          },
          "metadata": {
            "needs_background": "light"
          }
        }
      ]
    },
    {
      "cell_type": "code",
      "metadata": {
        "colab": {
          "base_uri": "https://localhost:8080/"
        },
        "id": "-7pHO6hASlZJ",
        "outputId": "37f1324e-01c2-42ec-b151-3f6fcbe687f2"
      },
      "source": [
        "#creating best model for DecisionTreeClassifier with best parameters\n",
        "from xgboost import XGBClassifier\n",
        "xgb = XGBClassifier(n_jobs = -1, n_estimators=rs2.best_params_.get('n_estimators'), max_depth=rs2.best_params_.get('max_depth'))\n",
        "\n",
        "#fit with training data\n",
        "xgb.fit(x_tr, y_train)"
      ],
      "execution_count": null,
      "outputs": [
        {
          "output_type": "execute_result",
          "data": {
            "text/plain": [
              "XGBClassifier(base_score=0.5, booster='gbtree', colsample_bylevel=1,\n",
              "              colsample_bynode=1, colsample_bytree=1, gamma=0,\n",
              "              learning_rate=0.1, max_delta_step=0, max_depth=6,\n",
              "              min_child_weight=1, missing=None, n_estimators=64, n_jobs=-1,\n",
              "              nthread=None, objective='binary:logistic', random_state=0,\n",
              "              reg_alpha=0, reg_lambda=1, scale_pos_weight=1, seed=None,\n",
              "              silent=None, subsample=1, verbosity=1)"
            ]
          },
          "metadata": {},
          "execution_count": 35
        }
      ]
    },
    {
      "cell_type": "code",
      "metadata": {
        "id": "gFv3xDqzVXk5"
      },
      "source": [
        "#predicting probability values for train and test data\n",
        "y_train_pred_prob = xgb.predict_proba(x_tr)[:,1]\n",
        "y_test_pred_prob = xgb.predict_proba(x_te)[:,1]\n",
        "\n",
        "#finding false positive rate and true positive rate for train and test data\n",
        "tr_fpr, tr_tpr, tr_thershold = roc_curve(y_train, y_train_pred_prob)\n",
        "te_fpr, te_tpr,te_threshold = roc_curve(y_test, y_test_pred_prob)"
      ],
      "execution_count": null,
      "outputs": []
    },
    {
      "cell_type": "code",
      "metadata": {
        "colab": {
          "base_uri": "https://localhost:8080/",
          "height": 295
        },
        "id": "hBtLFzt4VXmB",
        "outputId": "af228124-e9fd-4fdd-ad82-67f1be742000"
      },
      "source": [
        "#plotting ROC_AUC curve for train and test data\n",
        "plt.figure(figsize=(15,5))\n",
        "plt.plot(tr_fpr, tr_tpr, label=\"train AUC =\"+str(auc(tr_fpr, tr_tpr)))\n",
        "plt.plot(te_fpr, te_tpr, label=\"test AUC =\"+str(auc(te_fpr, te_tpr)))\n",
        "plt.title('Train AUC Vs Test AUC with TFIDF')\n",
        "plt.xlabel('False Positive Rate')\n",
        "plt.ylabel('True Positive Rate')\n",
        "plt.legend()\n",
        "plt.grid()\n",
        "plt.show()"
      ],
      "execution_count": null,
      "outputs": [
        {
          "output_type": "display_data",
          "data": {
            "image/png": "[encoded data removed]",
            "text/plain": [
              "<Figure size 432x288 with 1 Axes>"
            ]
          },
          "metadata": {
            "needs_background": "light"
          }
        }
      ]
    },
    {
      "cell_type": "code",
      "metadata": {
        "id": "3xEHidIIVXmI"
      },
      "source": [
        "#predicting y values for train and test data\n",
        "y_train_pred = xgb.predict(x_tr)\n",
        "y_test_pred = xgb.predict(x_te)"
      ],
      "execution_count": null,
      "outputs": []
    },
    {
      "cell_type": "code",
      "metadata": {
        "colab": {
          "base_uri": "https://localhost:8080/",
          "height": 286
        },
        "id": "yjj5HPCFVXmK",
        "outputId": "c022c194-abb5-454a-a6c3-c769060e68d2"
      },
      "source": [
        "#Heatmap confusion matrix between actual y_test and predicted y_test values\n",
        "from sklearn.metrics import confusion_matrix\n",
        "cm = (confusion_matrix(y_test, y_test_pred))\n",
        "sns.heatmap(cm, annot=True, fmt = 'd', xticklabels=['Predicted Negative', 'Predicted Positive'], yticklabels=['Actual Negative', 'Actual Positive'])\n",
        "plt.title('Confusion matrix with TFIDF', fontsize = 20)\n",
        "plt.show()"
      ],
      "execution_count": null,
      "outputs": [
        {
          "output_type": "display_data",
          "data": {
            "image/png": "[encoded data removed]",
            "text/plain": [
              "<Figure size 432x288 with 2 Axes>"
            ]
          },
          "metadata": {
            "needs_background": "light"
          }
        }
      ]
    },
    {
      "cell_type": "markdown",
      "metadata": {
        "id": "mnO4LwgjTmbd"
      },
      "source": [
        "TFIDFW2V"
      ]
    },
    {
      "cell_type": "code",
      "metadata": {
        "id": "K5zh795Q3_IV"
      },
      "source": [
        "with open('/content/drive/My Drive/Dataset/9_Donors_choose_DT/glove_vectors', 'rb') as f:\n",
        "    model = pickle.load(f)\n",
        "    glove_words =  set(model.keys())"
      ],
      "execution_count": null,
      "outputs": []
    },
    {
      "cell_type": "code",
      "metadata": {
        "id": "XmXkFGfk_yAu",
        "colab": {
          "base_uri": "https://localhost:8080/"
        },
        "outputId": "061712bb-0c90-469b-8f52-6ac6c4d07aea"
      },
      "source": [
        "#calculating TFIDF-W2V of train data\n",
        "#getting train essay values\n",
        "ee = x_train['essay'].values\n",
        "\n",
        "#create empty list\n",
        "res_tr = []\n",
        "#iterating through each sentance in essay\n",
        "for i in tqdm(range(len(ee))):\n",
        "  #initialize numerator and denominator values to zero\n",
        "  nume = deno = 0\n",
        "  #iterating through each words in sentence\n",
        "  for words in ee[i].split():\n",
        "    #if word present in glove words get its TFIDF values from TF_dictionary and multiply with its 300_dim vector representation and store in numerator\n",
        "    if words in glove_words:\n",
        "      tfidf = (ee[i].count(words) / len(ee[i].split())) * (TF.vocabulary_.get(words, 0))\n",
        "      nume += (tfidf * model[words])\n",
        "      #summing the TFIDF values of each words and store it in denominator\n",
        "      deno += tfidf\n",
        "\n",
        "  #divide numerator and denominator and append to list\n",
        "  res_tr.append(nume / deno)\n",
        "\n",
        "#convert list to numpy array\n",
        "x_train_essay_tfidfw2v = np.array(res_tr)"
      ],
      "execution_count": null,
      "outputs": [
        {
          "output_type": "stream",
          "name": "stderr",
          "text": [
            "100%|██████████| 73196/73196 [03:09<00:00, 387.08it/s]\n"
          ]
        }
      ]
    },
    {
      "cell_type": "code",
      "metadata": {
        "id": "VnIeB0xx_2hR",
        "colab": {
          "base_uri": "https://localhost:8080/"
        },
        "outputId": "93d8900a-12b2-4883-a608-409aafc6cae5"
      },
      "source": [
        "#calculating TFIDF-W2V\n",
        "#getting train essay values\n",
        "te = x_test['essay'].values\n",
        "\n",
        "#create empty list\n",
        "res_te = []\n",
        "#iterating through each sentance in essay\n",
        "for i in tqdm(range(len(te))):\n",
        "  #initialize numerator and denominator values to zero\n",
        "  nume = deno = 0\n",
        "  #iterating through each words in sentence\n",
        "  for words in te[i].split():\n",
        "    #if word present in glove words get its TFIDF values from TF_dictionary and multiply with its 300_dim vector representation and store in numerator\n",
        "    if words in glove_words:\n",
        "      tfidf_te = (te[i].count(words) / len(te[i].split())) * (TF.vocabulary_.get(words, 0))\n",
        "      nume += (tfidf_te * model[words])\n",
        "      #summing the TFIDF values of each words and store it in denominator\n",
        "      deno += tfidf_te\n",
        "\n",
        "  #divide numerator and denominator and append to list\n",
        "  res_te.append(nume / deno)\n",
        "\n",
        "#convert list to numpy array\n",
        "x_test_essay_tfidfw2v = np.array(res_te)"
      ],
      "execution_count": null,
      "outputs": [
        {
          "output_type": "stream",
          "name": "stderr",
          "text": [
            "100%|██████████| 36052/36052 [01:33<00:00, 386.80it/s]\n"
          ]
        }
      ]
    },
    {
      "cell_type": "code",
      "metadata": {
        "id": "igH6eJ1nT1vZ"
      },
      "source": [
        "#merging all encoded features into one using horizontal stacking\n",
        "x_tr2 = sparse.csr_matrix(np.hstack((x_train_essay_tfidfw2v, x_train_nopp_std, x_train_price_std, x_train_po_std, x_train_school_state_res, x_train_teacher_prefix_rescod, x_train_project_grade_category_rescod, x_train_clean_categories_rescod, x_train_clean_subcategories_rescod)))\n",
        "x_te2 = sparse.csr_matrix(np.hstack((x_test_essay_tfidfw2v, x_test_nopp_std, x_test_price_std, x_test_po_std, x_test_school_state_res, x_test_teacher_prefix_rescod, x_test_project_grade_category_rescod, x_test_clean_categories_rescod, x_test_clean_subcategories_rescod)))"
      ],
      "execution_count": null,
      "outputs": []
    },
    {
      "cell_type": "code",
      "metadata": {
        "id": "zh-zwHt7Gc2K",
        "colab": {
          "base_uri": "https://localhost:8080/"
        },
        "outputId": "2e56c45d-eb87-497b-9144-db1354339ea4"
      },
      "source": [
        "#creating instance for XGBClassifier\n",
        "xgbrs3 = XGBClassifier()\n",
        "\n",
        "#setting parameters for hyperparameters tuning\n",
        "param = {'n_estimators' : [8,16,32,64], 'max_depth' : [3,4,5,6]}\n",
        "\n",
        "#Hyperparameter tuning using RandomizedSearchCV\n",
        "rs3 = RandomizedSearchCV(xgbrs3, param_distributions = param, cv=5, n_jobs=-1, return_train_score=True, scoring='roc_auc')\n",
        "\n",
        "#fit with train data\n",
        "rs3.fit(x_tr2, y_train)"
      ],
      "execution_count": null,
      "outputs": [
        {
          "output_type": "execute_result",
          "data": {
            "text/plain": [
              "RandomizedSearchCV(cv=5, error_score=nan,\n",
              "                   estimator=XGBClassifier(base_score=0.5, booster='gbtree',\n",
              "                                           colsample_bylevel=1,\n",
              "                                           colsample_bynode=1,\n",
              "                                           colsample_bytree=1, gamma=0,\n",
              "                                           learning_rate=0.1, max_delta_step=0,\n",
              "                                           max_depth=3, min_child_weight=1,\n",
              "                                           missing=None, n_estimators=100,\n",
              "                                           n_jobs=1, nthread=None,\n",
              "                                           objective='binary:logistic',\n",
              "                                           random_state=0, reg_alpha=0,\n",
              "                                           reg_lambda=1, scale_pos_weight=1,\n",
              "                                           seed=None, silent=None, subsample=1,\n",
              "                                           verbosity=1),\n",
              "                   iid='deprecated', n_iter=10, n_jobs=-1,\n",
              "                   param_distributions={'max_depth': [3, 4, 5, 6],\n",
              "                                        'n_estimators': [8, 16, 32, 64]},\n",
              "                   pre_dispatch='2*n_jobs', random_state=None, refit=True,\n",
              "                   return_train_score=True, scoring='roc_auc', verbose=0)"
            ]
          },
          "metadata": {},
          "execution_count": 25
        }
      ]
    },
    {
      "cell_type": "code",
      "metadata": {
        "id": "Mcnq-lMxGc2M",
        "colab": {
          "base_uri": "https://localhost:8080/"
        },
        "outputId": "6723cd71-6a25-41e7-b84e-5ba7b49e1dc3"
      },
      "source": [
        "#getting best parameters and best score of model\n",
        "print(rs3.best_params_)\n",
        "print(rs3.best_score_)"
      ],
      "execution_count": null,
      "outputs": [
        {
          "output_type": "stream",
          "name": "stdout",
          "text": [
            "{'n_estimators': 64, 'max_depth': 4}\n",
            "0.6764479592118505\n"
          ]
        }
      ]
    },
    {
      "cell_type": "code",
      "metadata": {
        "id": "nwJy4lVGGc2P"
      },
      "source": [
        "#getting total result of model\n",
        "result = pd.DataFrame.from_dict(rs3.cv_results_)"
      ],
      "execution_count": null,
      "outputs": []
    },
    {
      "cell_type": "code",
      "metadata": {
        "id": "LiGI15RHGc2Q",
        "colab": {
          "base_uri": "https://localhost:8080/"
        },
        "outputId": "c29c932c-0f84-4be5-df9c-e655d8ea2039"
      },
      "source": [
        "#getting train and test AUC from result\n",
        "train_auc= result['mean_train_score']\n",
        "test_auc = result['mean_test_score']\n",
        "print(\"Test Data AUC \", test_auc)"
      ],
      "execution_count": null,
      "outputs": [
        {
          "output_type": "stream",
          "name": "stdout",
          "text": [
            "Test Data AUC  0    0.667635\n",
            "1    0.676448\n",
            "2    0.645133\n",
            "3    0.643031\n",
            "4    0.655883\n",
            "5    0.652782\n",
            "6    0.662654\n",
            "7    0.641046\n",
            "8    0.629581\n",
            "9    0.672685\n",
            "Name: mean_test_score, dtype: float64\n"
          ]
        }
      ]
    },
    {
      "cell_type": "code",
      "metadata": {
        "id": "sZI7xUmmXrNz",
        "colab": {
          "base_uri": "https://localhost:8080/",
          "height": 361
        },
        "outputId": "c07e0512-639a-4211-b04b-ec0346a1ea23"
      },
      "source": [
        "pi2 = result.pivot('param_n_estimators', 'param_max_depth', 'mean_test_score')\n",
        "plt.figure(figsize=(15,5))\n",
        "sns.heatmap(pi2, annot=True, linecolor='blue', linewidths=3)\n",
        "plt.title('Heatmap of Max_depth Vs n_estimators with TFIDFW2V', fontsize = 20) # title with fontsize 20\n",
        "plt.xlabel('max_depth', fontsize = 15) # x-axis label with fontsize 15\n",
        "plt.ylabel('n_estimators', fontsize = 15) # y-axis label with fontsize 15\n",
        "plt.show()"
      ],
      "execution_count": null,
      "outputs": [
        {
          "output_type": "display_data",
          "data": {
            "image/png": "[encoded data removed]",
            "text/plain": [
              "<Figure size 1080x360 with 2 Axes>"
            ]
          },
          "metadata": {
            "needs_background": "light"
          }
        }
      ]
    },
    {
      "cell_type": "code",
      "metadata": {
        "colab": {
          "base_uri": "https://localhost:8080/"
        },
        "id": "xmd4Zf30UB-i",
        "outputId": "2f912794-cd64-41ac-b38c-03a52c07d5c3"
      },
      "source": [
        "#creating best model for XGBClassifier with best parameters\n",
        "from xgboost import XGBClassifier\n",
        "xgb = XGBClassifier(n_jobs = -1, n_estimators=rs3.best_params_.get('n_estimators'), max_depth=rs3.best_params_.get('max_depth'))\n",
        "#,subsample=0.5, colsample_bytree=0.5\n",
        "\n",
        "#fit with training data\n",
        "xgb.fit(x_tr2, y_train)"
      ],
      "execution_count": null,
      "outputs": [
        {
          "output_type": "execute_result",
          "data": {
            "text/plain": [
              "XGBClassifier(base_score=0.5, booster='gbtree', colsample_bylevel=1,\n",
              "              colsample_bynode=1, colsample_bytree=1, gamma=0,\n",
              "              learning_rate=0.1, max_delta_step=0, max_depth=4,\n",
              "              min_child_weight=1, missing=None, n_estimators=64, n_jobs=-1,\n",
              "              nthread=None, objective='binary:logistic', random_state=0,\n",
              "              reg_alpha=0, reg_lambda=1, scale_pos_weight=1, seed=None,\n",
              "              silent=None, subsample=1, verbosity=1)"
            ]
          },
          "metadata": {},
          "execution_count": 31
        }
      ]
    },
    {
      "cell_type": "code",
      "metadata": {
        "id": "3dMygpyYUB-k"
      },
      "source": [
        "#predicting probability values for train and test data\n",
        "y_train_pred_prob = xgb.predict_proba(x_tr2)[:,1]\n",
        "y_test_pred_prob = xgb.predict_proba(x_te2)[:,1]\n",
        "\n",
        "#finding false positive rate and true positive rate for train and test data\n",
        "tr_fpr3, tr_tpr3, tr_thershold = roc_curve(y_train, y_train_pred_prob)\n",
        "te_fpr3, te_tpr3,te_threshold = roc_curve(y_test, y_test_pred_prob)"
      ],
      "execution_count": null,
      "outputs": []
    },
    {
      "cell_type": "code",
      "metadata": {
        "colab": {
          "base_uri": "https://localhost:8080/",
          "height": 350
        },
        "id": "rdjqjmnHUB-l",
        "outputId": "3a1a0e10-7fc3-4311-c364-b9b7163efd18"
      },
      "source": [
        "#plotting ROC_AUC curve for train and test data\n",
        "plt.figure(figsize=(15,5))\n",
        "plt.plot(tr_fpr3, tr_tpr3, label=\"train AUC =\"+str(auc(tr_fpr3, tr_tpr3)))\n",
        "plt.plot(te_fpr3, te_tpr3, label=\"test AUC =\"+str(auc(te_fpr3, te_tpr3)))\n",
        "plt.title('Train AUC Vs Test AUC with TFIDF W2V')\n",
        "plt.xlabel('False Positive Rate')\n",
        "plt.ylabel('True Positive Rate')\n",
        "plt.legend()\n",
        "plt.grid()\n",
        "plt.show()"
      ],
      "execution_count": null,
      "outputs": [
        {
          "output_type": "display_data",
          "data": {
            "image/png": "[encoded data removed]",
            "text/plain": [
              "<Figure size 1080x360 with 1 Axes>"
            ]
          },
          "metadata": {
            "needs_background": "light"
          }
        }
      ]
    },
    {
      "cell_type": "code",
      "metadata": {
        "id": "Dexrvqg_UB-l"
      },
      "source": [
        "#predicting y values for train and test data\n",
        "y_train_pred = xgb.predict(x_tr2)\n",
        "y_test_pred = xgb.predict(x_te2)"
      ],
      "execution_count": null,
      "outputs": []
    },
    {
      "cell_type": "code",
      "metadata": {
        "colab": {
          "base_uri": "https://localhost:8080/",
          "height": 298
        },
        "id": "1jUOhGdKUB-m",
        "outputId": "56c41c4d-b356-4325-84e1-994c2d335ef5"
      },
      "source": [
        "#Heatmap confusion matrix between actual y_test and predicted y_test values\n",
        "from sklearn.metrics import confusion_matrix\n",
        "cm = (confusion_matrix(y_test, y_test_pred))\n",
        "sns.heatmap(cm, annot=True, fmt = 'd', xticklabels=['Predicted Negative', 'Predicted Positive'], yticklabels=['Actual Negative', 'Actual Positive'])\n",
        "plt.title('Confusion matrix with TFIDF-W2V')"
      ],
      "execution_count": null,
      "outputs": [
        {
          "output_type": "execute_result",
          "data": {
            "text/plain": [
              "Text(0.5, 1.0, 'Confusion matrix with TFIDF-W2V')"
            ]
          },
          "metadata": {},
          "execution_count": 37
        },
        {
          "output_type": "display_data",
          "data": {
            "image/png": "[encoded data removed]",
            "text/plain": [
              "<Figure size 432x288 with 2 Axes>"
            ]
          },
          "metadata": {
            "needs_background": "light"
          }
        }
      ]
    },
    {
      "cell_type": "code",
      "metadata": {
        "colab": {
          "base_uri": "https://localhost:8080/"
        },
        "id": "Yf3kDFH-YU88",
        "outputId": "e00ee73c-5933-4fec-fc2c-900a64ac13c9"
      },
      "source": [
        "from prettytable import PrettyTable\n",
        "x=PrettyTable()\n",
        "\n",
        "x.field_names=['Vectorizer', 'Model', 'Hyperparameter', 'AUC']\n",
        "x.add_row(['Random Search-TFIDF', \"XGBoost\", len(rs2.best_params_.keys()), round(rs2.best_score_,3)])\n",
        "x.add_row(['TFIDF', \"XGBoost\", len(rs2.best_params_.keys()), round(auc(te_fpr, te_tpr), 3)])\n",
        "x.add_row(['Random Search-TFIDFW2V', \"XGBoost\", len(rs3.best_params_.keys()), round(rs3.best_score_,3)])\n",
        "x.add_row(['TFIDFW2V', \"XGBoost\", len(rs3.best_params_.keys()), round(auc(te_fpr3, te_tpr3), 3)])\n",
        "\n",
        "print(x)"
      ],
      "execution_count": 2,
      "outputs": [
        {
          "output_type": "stream",
          "name": "stdout",
          "text": [
            "+------------------------+---------+----------------+-------+\n",
            "|       Vectorizer       |  Model  | Hyperparameter |  AUC  |\n",
            "+------------------------+---------+----------------+-------+\n",
            "|  Random Search-TFIDF   | XGBoost |       2        | 0.719 |\n",
            "|         TFIDF          | XGBoost |       2        | 0.723 |\n",
            "| Random Search-TFIDFW2V | XGBoost |       2        | 0.676 |\n",
            "|        TFIDFW2V        | XGBoost |       2        | 0.686 |\n",
            "+------------------------+---------+----------------+-------+\n"
          ]
        }
      ]
    },
    {
      "cell_type": "code",
      "metadata": {
        "id": "s0uF1M_0YU1z"
      },
      "source": [
        ""
      ],
      "execution_count": null,
      "outputs": []
    }
  ]
}