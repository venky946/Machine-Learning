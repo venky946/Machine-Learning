{
  "nbformat": 4,
  "nbformat_minor": 0,
  "metadata": {
    "colab": {
      "name": "5a. Assignment_tfidf_Task_1_V.ipynb",
      "provenance": [],
      "collapsed_sections": []
    },
    "kernelspec": {
      "display_name": "Python 3",
      "name": "python3"
    },
    "language_info": {
      "name": "python"
    }
  },
  "cells": [
    {
      "cell_type": "code",
      "metadata": {
        "id": "RM7cQi3eZvuf"
      },
      "source": [
        "from collections import Counter\n",
        "from tqdm import tqdm\n",
        "from scipy.sparse import csr_matrix\n",
        "import math\n",
        "import operator\n",
        "from sklearn.preprocessing import normalize\n",
        "import numpy"
      ],
      "execution_count": 1,
      "outputs": []
    },
    {
      "cell_type": "code",
      "metadata": {
        "id": "i10lbNcPPv0c"
      },
      "source": [
        "corpus = [\n",
        "     'this is the first document',\n",
        "     'this document is the second document',\n",
        "     'and this is the third one',\n",
        "     'is this the first document',\n",
        "]"
      ],
      "execution_count": 2,
      "outputs": []
    },
    {
      "cell_type": "code",
      "metadata": {
        "id": "Qzn81Bv-UM3H"
      },
      "source": [
        "def fit(corpus):\n",
        "  #creating set for storing unique_words\n",
        "  unique_words = set()\n",
        "  if isinstance(corpus, list):\n",
        "    #iterating through rows in corpus\n",
        "    for row in corpus:\n",
        "      #iterating through each words in row\n",
        "      for word in row.split():\n",
        "        #checking for length of words\n",
        "        if len(word) < 2:\n",
        "          continue\n",
        "        #adding each words in set\n",
        "        unique_words.add(word)\n",
        "    #converting set into sorted list\n",
        "    unique_words = sorted(list(unique_words))\n",
        "    #creating vocab dict\n",
        "    vocab = {j:i for i , j in enumerate(unique_words)}\n",
        "\n",
        "    return vocab\n",
        "  else:\n",
        "    print(\"Send list of Sentences\")"
      ],
      "execution_count": 3,
      "outputs": []
    },
    {
      "cell_type": "code",
      "metadata": {
        "id": "_lP9qXtMVzbI"
      },
      "source": [
        "def transform(corpus, vocab):\n",
        "  #creating empty lists for rows, column, values\n",
        "  rows = []\n",
        "  columns = []\n",
        "  val = []\n",
        "  #iterating through rows of corpus\n",
        "  for idx, row in enumerate(tqdm(corpus)):\n",
        "    values = []\n",
        "    #creating word_frequency dict using counter\n",
        "    word_freq = dict(Counter(row.split()))\n",
        "    #iterating through words in vocab dict\n",
        "    for word in vocab.keys():\n",
        "      #calculating tfidf using formula\n",
        "      tfidf = (word_freq.get(word, 0) / len(row.split())) * get_idf(word, corpus)\n",
        "      col_index = vocab.get(word, 0)\n",
        "\n",
        "      if tfidf != 0:\n",
        "        rows.append(idx)\n",
        "        columns.append(col_index)\n",
        "      values.append(tfidf)\n",
        "    val.append(values)\n",
        "  norm = normalize(val)\n",
        "  #return csr_matrix((norm), shape=(len(corpus),len(vocab)))\n",
        "  #return csr_matrix((norm, (rows, columns)), shape=(len(corpus),len(vocab)))\n",
        "  return csr_matrix((norm))"
      ],
      "execution_count": 4,
      "outputs": []
    },
    {
      "cell_type": "code",
      "metadata": {
        "id": "XX2tbO-9Q3zk"
      },
      "source": [
        "def get_idf(word, corpus):\n",
        "  count=0\n",
        "  #iterating through rows in corpus\n",
        "  for r in corpus:\n",
        "    #if word in that row increament count by one\n",
        "    if word in r:\n",
        "      count += 1\n",
        "\n",
        "  idf_key= 1 + math.log((1+len(corpus)) / (count+1))\n",
        "  return idf_key"
      ],
      "execution_count": 5,
      "outputs": []
    },
    {
      "cell_type": "code",
      "metadata": {
        "id": "HcfhXp5bWgul"
      },
      "source": [
        "#calling fit method\n",
        "vocab = fit(corpus)\n",
        "#creating dictionary with words in vocab as keys and its idf value as values\n",
        "vocab_idf = {word:get_idf(word, corpus) for word in vocab.keys()}"
      ],
      "execution_count": 6,
      "outputs": []
    },
    {
      "cell_type": "code",
      "metadata": {
        "colab": {
          "base_uri": "https://localhost:8080/"
        },
        "id": "BLU7hMiPEVBV",
        "outputId": "8402c7de-8e04-4dc4-d396-dd12af0eaac9"
      },
      "source": [
        "#printing all words in vocab dict\n",
        "print(list(vocab.keys()))"
      ],
      "execution_count": 7,
      "outputs": [
        {
          "output_type": "stream",
          "name": "stdout",
          "text": [
            "['and', 'document', 'first', 'is', 'one', 'second', 'the', 'third', 'this']\n"
          ]
        }
      ]
    },
    {
      "cell_type": "code",
      "metadata": {
        "colab": {
          "base_uri": "https://localhost:8080/"
        },
        "id": "y3zzTVL5FCvF",
        "outputId": "1838b656-45e6-4000-fc8b-24e973657712"
      },
      "source": [
        "#printing idf values for words in vocab dict\n",
        "print(list(vocab_idf.values()))"
      ],
      "execution_count": 8,
      "outputs": [
        {
          "output_type": "stream",
          "name": "stdout",
          "text": [
            "[1.916290731874155, 1.2231435513142097, 1.5108256237659907, 1.0, 1.916290731874155, 1.916290731874155, 1.0, 1.916290731874155, 1.0]\n"
          ]
        }
      ]
    },
    {
      "cell_type": "code",
      "metadata": {
        "colab": {
          "base_uri": "https://localhost:8080/"
        },
        "id": "-wXY8SbDEgsj",
        "outputId": "bb858ff6-a5eb-4d99-8cbd-89f87add83f1"
      },
      "source": [
        "#shape of output matrix\n",
        "print(numpy.shape(transform(corpus, vocab)))"
      ],
      "execution_count": 9,
      "outputs": [
        {
          "output_type": "stream",
          "name": "stderr",
          "text": [
            "100%|██████████| 4/4 [00:00<00:00, 7588.07it/s]"
          ]
        },
        {
          "output_type": "stream",
          "name": "stdout",
          "text": [
            "(4, 9)\n"
          ]
        },
        {
          "output_type": "stream",
          "name": "stderr",
          "text": [
            "\n"
          ]
        }
      ]
    },
    {
      "cell_type": "code",
      "metadata": {
        "colab": {
          "base_uri": "https://localhost:8080/"
        },
        "id": "2ouhSnDU0LG8",
        "outputId": "0429abe4-a56d-440c-c889-a568187b0fb0"
      },
      "source": [
        "tr = transform(corpus, vocab)\n",
        "print(tr)"
      ],
      "execution_count": 10,
      "outputs": [
        {
          "output_type": "stream",
          "name": "stderr",
          "text": [
            "100%|██████████| 4/4 [00:00<00:00, 10094.59it/s]"
          ]
        },
        {
          "output_type": "stream",
          "name": "stdout",
          "text": [
            "  (0, 1)\t0.4697913855799205\n",
            "  (0, 2)\t0.580285823684436\n",
            "  (0, 3)\t0.3840852409148149\n",
            "  (0, 6)\t0.3840852409148149\n",
            "  (0, 8)\t0.3840852409148149\n",
            "  (1, 1)\t0.6876235979836937\n",
            "  (1, 3)\t0.2810886740337529\n",
            "  (1, 5)\t0.5386476208856762\n",
            "  (1, 6)\t0.2810886740337529\n",
            "  (1, 8)\t0.2810886740337529\n",
            "  (2, 0)\t0.511848512707169\n",
            "  (2, 3)\t0.267103787642168\n",
            "  (2, 4)\t0.511848512707169\n",
            "  (2, 6)\t0.267103787642168\n",
            "  (2, 7)\t0.511848512707169\n",
            "  (2, 8)\t0.267103787642168\n",
            "  (3, 1)\t0.4697913855799205\n",
            "  (3, 2)\t0.580285823684436\n",
            "  (3, 3)\t0.3840852409148149\n",
            "  (3, 6)\t0.3840852409148149\n",
            "  (3, 8)\t0.3840852409148149\n"
          ]
        },
        {
          "output_type": "stream",
          "name": "stderr",
          "text": [
            "\n"
          ]
        }
      ]
    },
    {
      "cell_type": "code",
      "metadata": {
        "colab": {
          "base_uri": "https://localhost:8080/"
        },
        "id": "kLM5ox0UFz39",
        "outputId": "0550f55f-59d9-4941-c9e2-1b86bb5d81ec"
      },
      "source": [
        "print(tr[0].toarray())"
      ],
      "execution_count": 11,
      "outputs": [
        {
          "output_type": "stream",
          "name": "stdout",
          "text": [
            "[[0.         0.46979139 0.58028582 0.38408524 0.         0.\n",
            "  0.38408524 0.         0.38408524]]\n"
          ]
        }
      ]
    },
    {
      "cell_type": "code",
      "metadata": {
        "id": "rtCPZvth4G6G"
      },
      "source": [
        ""
      ],
      "execution_count": 11,
      "outputs": []
    }
  ]
}