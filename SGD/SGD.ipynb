{
  "nbformat": 4,
  "nbformat_minor": 0,
  "metadata": {
    "colab": {
      "name": "9_correct.ipynb",
      "provenance": [],
      "collapsed_sections": []
    },
    "kernelspec": {
      "name": "python3",
      "display_name": "Python 3"
    },
    "language_info": {
      "name": "python"
    }
  },
  "cells": [
    {
      "cell_type": "code",
      "metadata": {
        "id": "4YMj0HwAEMnw"
      },
      "source": [
        "import numpy as np\n",
        "import pandas as pd\n",
        "from sklearn.datasets import make_classification\n",
        "from sklearn.model_selection import train_test_split\n",
        "import matplotlib.pyplot as plt\n",
        "import math\n",
        "from sklearn import linear_model\n",
        "import warnings\n",
        "warnings.filterwarnings('ignore')"
      ],
      "execution_count": null,
      "outputs": []
    },
    {
      "cell_type": "code",
      "metadata": {
        "id": "LETOAXmlFwTf"
      },
      "source": [
        "#Randomly assigning x and y values by built-in make_classification\n",
        "X, Y = make_classification(n_samples=50000, n_features=15, n_informative=10, n_redundant=5, n_classes=2, class_sep=0.7, weights=[0.7],random_state=15)"
      ],
      "execution_count": null,
      "outputs": []
    },
    {
      "cell_type": "code",
      "metadata": {
        "colab": {
          "base_uri": "https://localhost:8080/"
        },
        "id": "5_lye91WGVP7",
        "outputId": "bd6dd2a6-ed0e-4158-d24d-5e0371698264"
      },
      "source": [
        "print(X.shape, Y.shape)"
      ],
      "execution_count": null,
      "outputs": [
        {
          "output_type": "stream",
          "name": "stdout",
          "text": [
            "(50000, 15) (50000,)\n"
          ]
        }
      ]
    },
    {
      "cell_type": "code",
      "metadata": {
        "id": "L-3U3s0FGem8"
      },
      "source": [
        "#spiltting train and test dataset by train_test_split\n",
        "x_train, x_test, y_train, y_test = train_test_split(X, Y, test_size=0.25, random_state=15)"
      ],
      "execution_count": null,
      "outputs": []
    },
    {
      "cell_type": "code",
      "metadata": {
        "colab": {
          "base_uri": "https://localhost:8080/"
        },
        "id": "aWOGgRd2HTR5",
        "outputId": "08a4c143-1a91-4fc5-de9f-d2c760a0cd55"
      },
      "source": [
        "print(x_train.shape, x_test.shape, y_train.shape,y_test.shape)"
      ],
      "execution_count": null,
      "outputs": [
        {
          "output_type": "stream",
          "name": "stdout",
          "text": [
            "(37500, 15) (12500, 15) (37500,) (12500,)\n"
          ]
        }
      ]
    },
    {
      "cell_type": "code",
      "metadata": {
        "id": "8cDtltUrHZ-h"
      },
      "source": [
        "#initializing weight and intercept to zero\n",
        "def initialize_weights(dim):\n",
        "  w = np.zeros_like(dim)\n",
        "  b = 0\n",
        "  return w,b"
      ],
      "execution_count": null,
      "outputs": []
    },
    {
      "cell_type": "code",
      "metadata": {
        "colab": {
          "base_uri": "https://localhost:8080/"
        },
        "id": "w6VAFOQ1H5BO",
        "outputId": "31457157-35b2-4f7a-e3fd-e529738d5c77"
      },
      "source": [
        "dim = X[0]\n",
        "w, b = initialize_weights(dim)\n",
        "print(\"w \",w)\n",
        "print(\"b \", str(b))"
      ],
      "execution_count": null,
      "outputs": [
        {
          "output_type": "stream",
          "name": "stdout",
          "text": [
            "w  [0. 0. 0. 0. 0. 0. 0. 0. 0. 0. 0. 0. 0. 0. 0.]\n",
            "b  0\n"
          ]
        }
      ]
    },
    {
      "cell_type": "code",
      "metadata": {
        "id": "bSjX1dPiIm4N"
      },
      "source": [
        "#calculate sigmoid value\n",
        "def sigmoid(z):\n",
        "  return (1/(1+np.exp(-z)))"
      ],
      "execution_count": null,
      "outputs": []
    },
    {
      "cell_type": "code",
      "metadata": {
        "colab": {
          "base_uri": "https://localhost:8080/"
        },
        "id": "TuI0hDmemLES",
        "outputId": "dc9fd102-4303-42a0-e752-06350d5f6a0b"
      },
      "source": [
        "def grader_sigmoid(z):\n",
        "  val=sigmoid(z)\n",
        "  assert(val==0.8807970779778823)\n",
        "  return True\n",
        "grader_sigmoid(2)"
      ],
      "execution_count": null,
      "outputs": [
        {
          "output_type": "execute_result",
          "data": {
            "text/plain": [
              "True"
            ]
          },
          "metadata": {},
          "execution_count": 9
        }
      ]
    },
    {
      "cell_type": "code",
      "metadata": {
        "id": "POStRgZZX2sm"
      },
      "source": [
        "def gradient_dw(x,y,w,b,alpha,N):\n",
        "  #calculate z value Wt,x + b\n",
        "  z = np.sum(np.dot(w, x))+b\n",
        "  #ccalculate gradiant for w using formula\n",
        "  dw = x*(y - sigmoid(z)) - ((alpha / N) * w)\n",
        "  return dw"
      ],
      "execution_count": null,
      "outputs": []
    },
    {
      "cell_type": "code",
      "metadata": {
        "colab": {
          "base_uri": "https://localhost:8080/"
        },
        "id": "Y9PBeCnVmTHw",
        "outputId": "9b671904-54cf-4774-dab4-bc9b0bb20156"
      },
      "source": [
        "def grader_dw(x,y,w,b,alpha,N):\n",
        "  grad_dw=gradient_dw(x,y,w,b,alpha,N)\n",
        "  assert(np.sum(grad_dw)==2.613689585)\n",
        "  return True\n",
        "grad_x=np.array([-2.07864835,  3.31604252, -0.79104357, -3.87045546, -1.14783286,\n",
        "       -2.81434437, -0.86771071, -0.04073287,  0.84827878,  1.99451725,\n",
        "        3.67152472,  0.01451875,  2.01062888,  0.07373904, -5.54586092])\n",
        "grad_y=0\n",
        "grad_w,grad_b=initialize_weights(grad_x)\n",
        "alpha=0.0001\n",
        "X_train = x_train\n",
        "N=len(X_train)\n",
        "grader_dw(grad_x,grad_y,grad_w,grad_b,alpha,N)"
      ],
      "execution_count": null,
      "outputs": [
        {
          "output_type": "execute_result",
          "data": {
            "text/plain": [
              "True"
            ]
          },
          "metadata": {},
          "execution_count": 11
        }
      ]
    },
    {
      "cell_type": "code",
      "metadata": {
        "id": "Pm4wP_a3cPPH"
      },
      "source": [
        "#calculate gradiant for b using formula\n",
        "def gradient_db(x,y,w,b):\n",
        "  z=np.sum(np.dot(w, x)) + b\n",
        "  db = y - sigmoid(z)\n",
        "  return db"
      ],
      "execution_count": null,
      "outputs": []
    },
    {
      "cell_type": "code",
      "metadata": {
        "colab": {
          "base_uri": "https://localhost:8080/"
        },
        "id": "oV_JYkAhmV0U",
        "outputId": "d91fc40c-2e61-4035-9662-823f2d41df33"
      },
      "source": [
        "def grader_db(x,y,w,b):\n",
        "  grad_db=gradient_db(x,y,w,b)\n",
        "  assert(grad_db==-0.5)\n",
        "  return True\n",
        "grad_x=np.array([-2.07864835,  3.31604252, -0.79104357, -3.87045546, -1.14783286,\n",
        "       -2.81434437, -0.86771071, -0.04073287,  0.84827878,  1.99451725,\n",
        "        3.67152472,  0.01451875,  2.01062888,  0.07373904, -5.54586092])\n",
        "grad_y=0\n",
        "grad_w,grad_b=initialize_weights(grad_x)\n",
        "alpha=0.0001\n",
        "N=len(X_train)\n",
        "grader_db(grad_x,grad_y,grad_w,grad_b)"
      ],
      "execution_count": null,
      "outputs": [
        {
          "output_type": "execute_result",
          "data": {
            "text/plain": [
              "True"
            ]
          },
          "metadata": {},
          "execution_count": 13
        }
      ]
    },
    {
      "cell_type": "code",
      "metadata": {
        "id": "rahfEKcqu0_j"
      },
      "source": [
        "def logloss(y_true, y_pred):\n",
        "  #convert ytrue and ypred values to numpy array\n",
        "  y_true = np.array(y_true)\n",
        "  y_pred = np.array(y_pred)\n",
        "  #calculate loss value\n",
        "  loss = (-1) * ((1/len(y_true)) * (np.sum(y_true*np.log10(y_pred) + ((1-y_true)*np.log10(1-y_pred)))))\n",
        "  return loss"
      ],
      "execution_count": null,
      "outputs": []
    },
    {
      "cell_type": "code",
      "metadata": {
        "colab": {
          "base_uri": "https://localhost:8080/"
        },
        "id": "aeBTgLe1mPea",
        "outputId": "e9fa0875-856d-4dd8-a7ae-1bb598a0f0ef"
      },
      "source": [
        "def grader_logloss(true,pred):\n",
        "  loss=logloss(true,pred)\n",
        "  assert(loss==0.07644900402910389)\n",
        "  return True\n",
        "true=[1,1,0,1,0]\n",
        "pred=[0.9,0.8,0.1,0.8,0.2]\n",
        "grader_logloss(true,pred)"
      ],
      "execution_count": null,
      "outputs": [
        {
          "output_type": "execute_result",
          "data": {
            "text/plain": [
              "True"
            ]
          },
          "metadata": {},
          "execution_count": 15
        }
      ]
    },
    {
      "cell_type": "code",
      "metadata": {
        "id": "rdBjaKnDz_CQ"
      },
      "source": [
        "def pred(w, b, x):\n",
        "  #pred = [1 if sigmoid((np.dot(w, x[i])) + b) >= 0.5 else 0 for i in range(len(x))]\n",
        "  pred = sigmoid((np.dot(x, w)) + b)\n",
        "  return pred"
      ],
      "execution_count": null,
      "outputs": []
    },
    {
      "cell_type": "code",
      "metadata": {
        "id": "mzAruFtGwzhQ"
      },
      "source": [
        "def train(x_train, y_train, x_test, y_test, epochs, alpha, eta0):\n",
        "  #creating empty list train loss, test loss\n",
        "  global train_loss\n",
        "  global test_loss\n",
        "  #initialize w, b\n",
        "  w, b = initialize_weights(dim)\n",
        "  for i in range(epochs):\n",
        "    for j in range(len(x_train)):\n",
        "      #getting gradiant of w and b\n",
        "      dw = gradient_dw(x_train[j], y_train[j],w,b,alpha,N)\n",
        "      db = gradient_db(x_train[j], y_train[j], w, b)\n",
        "\n",
        "      w += (alpha * (dw))\n",
        "      b += (alpha * (db))\n",
        "\n",
        "    #predict y values for train data\n",
        "    y_train_pred = pred(w, b, x_train)\n",
        "    #print(y_train_pred)\n",
        "\n",
        "    #calculate train loss\n",
        "    train_l = logloss(y_train, y_train_pred)\n",
        "    #print(train_l)\n",
        "\n",
        "    #adding train loss to its list\n",
        "    train_loss.append(train_l)\n",
        "\n",
        "    #predict y values for test data\n",
        "    y_test_pred = pred(w, b, x_test)\n",
        "\n",
        "    #calculate test loss\n",
        "    test_l = logloss(y_test, y_test_pred)\n",
        "\n",
        "    #adding test loss to its list\n",
        "    test_loss.append(test_l)\n",
        "\n",
        "    if i != 0:\n",
        "      if round(train_loss[i], 5) == round(train_loss[i-1], 5):\n",
        "        print('minimum reached', i)\n",
        "        return w, b\n"
      ],
      "execution_count": null,
      "outputs": []
    },
    {
      "cell_type": "code",
      "metadata": {
        "colab": {
          "base_uri": "https://localhost:8080/"
        },
        "id": "0OPLFqu04ABi",
        "outputId": "91684f78-f076-4178-a8d0-88ae2be4f98f"
      },
      "source": [
        "train_loss = []\n",
        "test_loss = []\n",
        "alpha=0.0001\n",
        "eta0=0.0001\n",
        "N=len(x_train)\n",
        "epochs=50\n",
        "w,b=train(x_train,y_train,x_test,y_test,epochs,alpha,eta0)"
      ],
      "execution_count": null,
      "outputs": [
        {
          "output_type": "stream",
          "name": "stdout",
          "text": [
            "minimum reached 12\n"
          ]
        }
      ]
    },
    {
      "cell_type": "code",
      "metadata": {
        "colab": {
          "base_uri": "https://localhost:8080/"
        },
        "id": "ItgN5uTCweTb",
        "outputId": "1cac1f79-eb49-4d78-d932-1c678cd75cbe"
      },
      "source": [
        "print(\"Coefficient and intercept calculated by our own function\")\n",
        "print(w, b)"
      ],
      "execution_count": null,
      "outputs": [
        {
          "output_type": "stream",
          "name": "stdout",
          "text": [
            "Coefficient and intercept calculated by our own function\n",
            "[-0.42696913  0.19215659 -0.14739301  0.33812031 -0.21734813  0.56797156\n",
            " -0.44523767 -0.09066632  0.22018456  0.17211202  0.1972539   0.00063806\n",
            " -0.07984243  0.33896599  0.02262496] -0.8743921634421901\n"
          ]
        }
      ]
    },
    {
      "cell_type": "code",
      "metadata": {
        "colab": {
          "base_uri": "https://localhost:8080/"
        },
        "id": "Q5N4EXjExHXZ",
        "outputId": "26533214-3dad-4194-9309-a6d2259a2e79"
      },
      "source": [
        "clf = linear_model.SGDClassifier(eta0=0.0001, alpha=0.0001, loss='log', random_state=15, penalty='l2', tol=1e-3, verbose=2, learning_rate='constant')\n",
        "clf.fit(x_train,y_train)"
      ],
      "execution_count": null,
      "outputs": [
        {
          "output_type": "stream",
          "name": "stdout",
          "text": [
            "-- Epoch 1\n",
            "Norm: 0.77, NNZs: 15, Bias: -0.316653, T: 37500, Avg. loss: 0.455552\n",
            "Total training time: 0.02 seconds.\n",
            "-- Epoch 2\n",
            "Norm: 0.91, NNZs: 15, Bias: -0.472747, T: 75000, Avg. loss: 0.394686\n",
            "Total training time: 0.03 seconds.\n",
            "-- Epoch 3\n",
            "Norm: 0.98, NNZs: 15, Bias: -0.580082, T: 112500, Avg. loss: 0.385711\n",
            "Total training time: 0.05 seconds.\n",
            "-- Epoch 4\n",
            "Norm: 1.02, NNZs: 15, Bias: -0.658292, T: 150000, Avg. loss: 0.382083\n",
            "Total training time: 0.06 seconds.\n",
            "-- Epoch 5\n",
            "Norm: 1.04, NNZs: 15, Bias: -0.719528, T: 187500, Avg. loss: 0.380486\n",
            "Total training time: 0.07 seconds.\n",
            "-- Epoch 6\n",
            "Norm: 1.05, NNZs: 15, Bias: -0.763409, T: 225000, Avg. loss: 0.379578\n",
            "Total training time: 0.08 seconds.\n",
            "-- Epoch 7\n",
            "Norm: 1.06, NNZs: 15, Bias: -0.795106, T: 262500, Avg. loss: 0.379150\n",
            "Total training time: 0.09 seconds.\n",
            "-- Epoch 8\n",
            "Norm: 1.06, NNZs: 15, Bias: -0.819925, T: 300000, Avg. loss: 0.378856\n",
            "Total training time: 0.10 seconds.\n",
            "-- Epoch 9\n",
            "Norm: 1.07, NNZs: 15, Bias: -0.837805, T: 337500, Avg. loss: 0.378585\n",
            "Total training time: 0.11 seconds.\n",
            "-- Epoch 10\n",
            "Norm: 1.08, NNZs: 15, Bias: -0.853138, T: 375000, Avg. loss: 0.378630\n",
            "Total training time: 0.13 seconds.\n",
            "Convergence after 10 epochs took 0.13 seconds\n"
          ]
        },
        {
          "output_type": "execute_result",
          "data": {
            "text/plain": [
              "SGDClassifier(alpha=0.0001, average=False, class_weight=None,\n",
              "              early_stopping=False, epsilon=0.1, eta0=0.0001,\n",
              "              fit_intercept=True, l1_ratio=0.15, learning_rate='constant',\n",
              "              loss='log', max_iter=1000, n_iter_no_change=5, n_jobs=None,\n",
              "              penalty='l2', power_t=0.5, random_state=15, shuffle=True,\n",
              "              tol=0.001, validation_fraction=0.1, verbose=2, warm_start=False)"
            ]
          },
          "metadata": {},
          "execution_count": 20
        }
      ]
    },
    {
      "cell_type": "code",
      "metadata": {
        "colab": {
          "base_uri": "https://localhost:8080/"
        },
        "id": "UdMCfWadvavP",
        "outputId": "ab6a2df8-0826-4c9d-caa1-55facf1f7c71"
      },
      "source": [
        "clf.coef_, clf.coef_.shape, clf.intercept_"
      ],
      "execution_count": null,
      "outputs": [
        {
          "output_type": "execute_result",
          "data": {
            "text/plain": [
              "(array([[-0.42336692,  0.18547565, -0.14859036,  0.34144407, -0.2081867 ,\n",
              "          0.56016579, -0.45242483, -0.09408813,  0.2092732 ,  0.18084126,\n",
              "          0.19705191,  0.00421916, -0.0796037 ,  0.33852802,  0.02266721]]),\n",
              " (1, 15),\n",
              " array([-0.8531383]))"
            ]
          },
          "metadata": {},
          "execution_count": 21
        }
      ]
    },
    {
      "cell_type": "code",
      "metadata": {
        "colab": {
          "base_uri": "https://localhost:8080/"
        },
        "id": "ujdjgbl25g6d",
        "outputId": "307420b2-3aeb-473b-f2c1-bbabebd18305"
      },
      "source": [
        "print(w, b)\n",
        "print('-'*50)\n",
        "print(clf.coef_, clf.intercept_)\n",
        "print('-'*50)\n",
        "w-clf.coef_, b-clf.intercept_"
      ],
      "execution_count": null,
      "outputs": [
        {
          "output_type": "stream",
          "name": "stdout",
          "text": [
            "[-0.42696913  0.19215659 -0.14739301  0.33812031 -0.21734813  0.56797156\n",
            " -0.44523767 -0.09066632  0.22018456  0.17211202  0.1972539   0.00063806\n",
            " -0.07984243  0.33896599  0.02262496] -0.8743921634421901\n",
            "--------------------------------------------------\n",
            "[[-0.42336692  0.18547565 -0.14859036  0.34144407 -0.2081867   0.56016579\n",
            "  -0.45242483 -0.09408813  0.2092732   0.18084126  0.19705191  0.00421916\n",
            "  -0.0796037   0.33852802  0.02266721]] [-0.8531383]\n",
            "--------------------------------------------------\n"
          ]
        },
        {
          "output_type": "execute_result",
          "data": {
            "text/plain": [
              "(array([[-3.60221756e-03,  6.68093309e-03,  1.19735165e-03,\n",
              "         -3.32375717e-03, -9.16142288e-03,  7.80577681e-03,\n",
              "          7.18715292e-03,  3.42180511e-03,  1.09113645e-02,\n",
              "         -8.72923967e-03,  2.01996277e-04, -3.58109893e-03,\n",
              "         -2.38735003e-04,  4.37975195e-04, -4.22523777e-05]]),\n",
              " array([-0.02125387]))"
            ]
          },
          "metadata": {},
          "execution_count": 22
        }
      ]
    },
    {
      "cell_type": "code",
      "metadata": {
        "colab": {
          "base_uri": "https://localhost:8080/"
        },
        "id": "xE74kU_PxSWA",
        "outputId": "d9548f60-1824-4611-de8c-45d3feb7fe56"
      },
      "source": [
        "print(\"Difference between sklearn model's Coefficient and own function's coefficient\")\n",
        "print(clf.coef_ - w)\n",
        "print('-'*50)\n",
        "\n",
        "print(\"Difference between sklearn model's intercept and own function's intercept\")\n",
        "print(clf.intercept_ - b)"
      ],
      "execution_count": null,
      "outputs": [
        {
          "output_type": "stream",
          "name": "stdout",
          "text": [
            "Difference between sklearn model's Coefficient and own function's coefficient\n",
            "[[ 3.60221756e-03 -6.68093309e-03 -1.19735165e-03  3.32375717e-03\n",
            "   9.16142288e-03 -7.80577681e-03 -7.18715292e-03 -3.42180511e-03\n",
            "  -1.09113645e-02  8.72923967e-03 -2.01996277e-04  3.58109893e-03\n",
            "   2.38735003e-04 -4.37975195e-04  4.22523777e-05]]\n",
            "--------------------------------------------------\n",
            "Difference between sklearn model's intercept and own function's intercept\n",
            "[0.02125387]\n"
          ]
        }
      ]
    },
    {
      "cell_type": "markdown",
      "metadata": {
        "id": "SDqOh9XotWKF"
      },
      "source": [
        "Epochs VS Loss"
      ]
    },
    {
      "cell_type": "code",
      "metadata": {
        "id": "cgocVozBp85S",
        "colab": {
          "base_uri": "https://localhost:8080/",
          "height": 350
        },
        "outputId": "bedf4c4d-ef7b-4e55-84b5-a547bf5fa6b1"
      },
      "source": [
        "plt.figure(figsize=(20,5))\n",
        "plt.plot(np.arange(len(train_loss)), train_loss, label='Train loss')\n",
        "plt.plot(np.arange(len(test_loss)), test_loss, label='Test Loss')\n",
        "plt.xlabel('Epochs')\n",
        "plt.ylabel('Loss')\n",
        "plt.title('Epochs Vs Loss')\n",
        "plt.legend()\n",
        "plt.show()"
      ],
      "execution_count": null,
      "outputs": [
        {
          "output_type": "display_data",
          "data": {
            "image/png": "[encoded data removed]",
            "text/plain": [
              "<Figure size 1440x360 with 1 Axes>"
            ]
          },
          "metadata": {
            "needs_background": "light"
          }
        }
      ]
    },
    {
      "cell_type": "code",
      "metadata": {
        "id": "wXZ8h--Asg3y"
      },
      "source": [
        ""
      ],
      "execution_count": null,
      "outputs": []
    }
  ]
}