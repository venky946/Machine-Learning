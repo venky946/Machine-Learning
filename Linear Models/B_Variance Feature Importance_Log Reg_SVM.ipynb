{
  "nbformat": 4,
  "nbformat_minor": 0,
  "metadata": {
    "colab": {
      "name": "10B_V.ipynb",
      "provenance": [],
      "collapsed_sections": []
    },
    "kernelspec": {
      "name": "python3",
      "display_name": "Python 3"
    },
    "language_info": {
      "name": "python"
    }
  },
  "cells": [
    {
      "cell_type": "code",
      "metadata": {
        "colab": {
          "base_uri": "https://localhost:8080/",
          "height": 17
        },
        "id": "YRXKhgbkGRzC",
        "outputId": "63fb6aa9-d973-4439-f7f8-03700aab34af"
      },
      "source": [
        "import numpy as np\n",
        "import pandas as pd\n",
        "import plotly\n",
        "import plotly.figure_factory as ff\n",
        "import plotly.graph_objs as go\n",
        "from sklearn.linear_model import LogisticRegression\n",
        "from sklearn.preprocessing import StandardScaler\n",
        "from sklearn.preprocessing import MinMaxScaler\n",
        "from plotly.offline import download_plotlyjs, init_notebook_mode, plot, iplot\n",
        "init_notebook_mode(connected=True)"
      ],
      "execution_count": 1,
      "outputs": [
        {
          "output_type": "display_data",
          "data": {
            "text/html": [
              "        <script type=\"text/javascript\">\n",
              "        window.PlotlyConfig = {MathJaxConfig: 'local'};\n",
              "        if (window.MathJax) {MathJax.Hub.Config({SVG: {font: \"STIX-Web\"}});}\n",
              "        if (typeof require !== 'undefined') {\n",
              "        require.undef(\"plotly\");\n",
              "        requirejs.config({\n",
              "            paths: {\n",
              "                'plotly': ['https://cdn.plot.ly/plotly-latest.min']\n",
              "            }\n",
              "        });\n",
              "        require(['plotly'], function(Plotly) {\n",
              "            window._Plotly = Plotly;\n",
              "        });\n",
              "        }\n",
              "        </script>\n",
              "        "
            ]
          },
          "metadata": {}
        }
      ]
    },
    {
      "cell_type": "code",
      "metadata": {
        "colab": {
          "base_uri": "https://localhost:8080/"
        },
        "id": "7Og6pIccGjjS",
        "outputId": "048bcdbc-2abe-4ef6-c5f8-b615d7955538"
      },
      "source": [
        "from google.colab import drive\n",
        "drive.mount('/content/drive')"
      ],
      "execution_count": 2,
      "outputs": [
        {
          "output_type": "stream",
          "name": "stdout",
          "text": [
            "Mounted at /content/drive\n"
          ]
        }
      ]
    },
    {
      "cell_type": "code",
      "metadata": {
        "id": "57fLR4JsGqL1"
      },
      "source": [
        "data = pd.read_csv('/content/drive/My Drive/Dataset/8_LinearModels/task_b.csv')\n",
        "data = data.iloc[:,1:]"
      ],
      "execution_count": 3,
      "outputs": []
    },
    {
      "cell_type": "code",
      "metadata": {
        "colab": {
          "base_uri": "https://localhost:8080/"
        },
        "id": "_oEZLDSuH9wP",
        "outputId": "b15d2950-0107-4e4d-8043-c9da60e95236"
      },
      "source": [
        "#correlation with y\n",
        "data.corr()['y']"
      ],
      "execution_count": 4,
      "outputs": [
        {
          "output_type": "execute_result",
          "data": {
            "text/plain": [
              "f1    0.067172\n",
              "f2   -0.017944\n",
              "f3    0.839060\n",
              "y     1.000000\n",
              "Name: y, dtype: float64"
            ]
          },
          "metadata": {},
          "execution_count": 4
        }
      ]
    },
    {
      "cell_type": "code",
      "metadata": {
        "colab": {
          "base_uri": "https://localhost:8080/"
        },
        "id": "An84Ix3nJREt",
        "outputId": "798c1f73-cf66-4bcb-981e-a8d4ea8026b4"
      },
      "source": [
        "#calculating standars deviation, mean, variance\n",
        "print(data.std(), data.mean(), data.var())"
      ],
      "execution_count": 5,
      "outputs": [
        {
          "output_type": "stream",
          "name": "stdout",
          "text": [
            "f1      488.195035\n",
            "f2    10403.417325\n",
            "f3        2.926662\n",
            "y         0.501255\n",
            "dtype: float64 f1      10.180031\n",
            "f2    1299.986739\n",
            "f3       5.001840\n",
            "y        0.500000\n",
            "dtype: float64 f1    2.383344e+05\n",
            "f2    1.082311e+08\n",
            "f3    8.565349e+00\n",
            "y     2.512563e-01\n",
            "dtype: float64\n"
          ]
        }
      ]
    },
    {
      "cell_type": "code",
      "metadata": {
        "id": "618dDT55IRLX"
      },
      "source": [
        "#assigning x and y\n",
        "x = data[['f1', 'f2', 'f3']].values\n",
        "y = data['y'].values"
      ],
      "execution_count": 6,
      "outputs": []
    },
    {
      "cell_type": "code",
      "metadata": {
        "colab": {
          "base_uri": "https://localhost:8080/"
        },
        "id": "LCjixJfD8z_E",
        "outputId": "bf619576-3fd6-416c-f356-bf94ef43c0f1"
      },
      "source": [
        "x.shape, y.shape"
      ],
      "execution_count": 7,
      "outputs": [
        {
          "output_type": "execute_result",
          "data": {
            "text/plain": [
              "((200, 3), (200,))"
            ]
          },
          "metadata": {},
          "execution_count": 7
        }
      ]
    },
    {
      "cell_type": "code",
      "metadata": {
        "id": "cONNsiMV8VeD"
      },
      "source": [
        "# #spliting train and test data\n",
        "# x_tr = x[:160]\n",
        "# x_te = x[160:]\n",
        "\n",
        "# y_tr = y[:160]\n",
        "# y_te = y[160:]"
      ],
      "execution_count": 8,
      "outputs": []
    },
    {
      "cell_type": "markdown",
      "metadata": {
        "id": "Jn7a-0xZPzrX"
      },
      "source": [
        "Feature importance using logloss"
      ]
    },
    {
      "cell_type": "code",
      "metadata": {
        "colab": {
          "base_uri": "https://localhost:8080/"
        },
        "id": "988Ab8rmIxdF",
        "outputId": "ec87468b-5c76-4d53-f59b-e9f71f92cf96"
      },
      "source": [
        "from sklearn.linear_model import SGDClassifier\n",
        "clf_l = SGDClassifier(loss = 'log')\n",
        "clf_l.fit(x, y)\n",
        "clf_l.coef_[0]"
      ],
      "execution_count": 9,
      "outputs": [
        {
          "output_type": "execute_result",
          "data": {
            "text/plain": [
              "array([ 5927.07320196,  8831.10951099, 10377.12662112])"
            ]
          },
          "metadata": {},
          "execution_count": 9
        }
      ]
    },
    {
      "cell_type": "markdown",
      "metadata": {
        "id": "qLJjB7ZeP7i_"
      },
      "source": [
        "Feature importance using hinge loss"
      ]
    },
    {
      "cell_type": "code",
      "metadata": {
        "colab": {
          "base_uri": "https://localhost:8080/"
        },
        "id": "4Q0R1-4zL2yU",
        "outputId": "b8087ac9-2ed8-40f4-ee72-0884b142d218"
      },
      "source": [
        "from sklearn.linear_model import SGDClassifier\n",
        "clf_svm = SGDClassifier(loss = 'hinge')\n",
        "clf_svm.fit(x, y)\n",
        "clf_svm.coef_[0]"
      ],
      "execution_count": 10,
      "outputs": [
        {
          "output_type": "execute_result",
          "data": {
            "text/plain": [
              "array([ 22861.11470802, -18247.22992924,  10283.76719508])"
            ]
          },
          "metadata": {},
          "execution_count": 10
        }
      ]
    },
    {
      "cell_type": "markdown",
      "metadata": {
        "id": "C6XWUUGjQMlx"
      },
      "source": [
        "Feature importance using logloss with column standarization"
      ]
    },
    {
      "cell_type": "code",
      "metadata": {
        "colab": {
          "base_uri": "https://localhost:8080/"
        },
        "id": "MQp8aKskNzTg",
        "outputId": "447e196f-79ff-4675-ff5c-761cac031e99"
      },
      "source": [
        "scalar = StandardScaler()\n",
        "xf = scalar.fit_transform(x)\n",
        "clf_l = SGDClassifier(loss = 'log')\n",
        "clf_l.fit(xf, y)\n",
        "clf_l.coef_[0]"
      ],
      "execution_count": 11,
      "outputs": [
        {
          "output_type": "execute_result",
          "data": {
            "text/plain": [
              "array([ 0.51977047, -1.0706472 ,  9.66278315])"
            ]
          },
          "metadata": {},
          "execution_count": 11
        }
      ]
    },
    {
      "cell_type": "markdown",
      "metadata": {
        "id": "gaBmPhZ1QOLV"
      },
      "source": [
        "Feature importance using hinge loss with column standarization"
      ]
    },
    {
      "cell_type": "code",
      "metadata": {
        "colab": {
          "base_uri": "https://localhost:8080/"
        },
        "id": "3QNOaVfJO92e",
        "outputId": "6529f57d-a736-4c30-bdd9-035bdb64b707"
      },
      "source": [
        "clf_svm = SGDClassifier(loss = 'hinge')\n",
        "clf_svm.fit(xf,y)\n",
        "clf_svm.coef_[0]"
      ],
      "execution_count": 12,
      "outputs": [
        {
          "output_type": "execute_result",
          "data": {
            "text/plain": [
              "array([-5.95672274e-03,  2.19745672e+00,  2.28698182e+01])"
            ]
          },
          "metadata": {},
          "execution_count": 12
        }
      ]
    },
    {
      "cell_type": "code",
      "metadata": {
        "id": "fyOgVNh6KwYX"
      },
      "source": [
        ""
      ],
      "execution_count": 12,
      "outputs": []
    }
  ]
}