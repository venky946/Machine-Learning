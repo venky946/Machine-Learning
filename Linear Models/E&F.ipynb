{
  "nbformat": 4,
  "nbformat_minor": 0,
  "metadata": {
    "colab": {
      "name": "10E&F_V.ipynb",
      "provenance": [],
      "collapsed_sections": []
    },
    "kernelspec": {
      "name": "python3",
      "display_name": "Python 3"
    },
    "language_info": {
      "name": "python"
    }
  },
  "cells": [
    {
      "cell_type": "code",
      "metadata": {
        "id": "fCgMNEvI4Zxf"
      },
      "source": [
        "import numpy as np\n",
        "import pandas as pd\n",
        "from sklearn.datasets import make_classification\n",
        "import numpy as np\n",
        "from sklearn.svm import SVC\n",
        "import warnings\n",
        "warnings.filterwarnings('ignore')"
      ],
      "execution_count": 97,
      "outputs": []
    },
    {
      "cell_type": "code",
      "metadata": {
        "id": "ANUNIqCe4Zxn"
      },
      "source": [
        "#Randomly assign x and y using make classification\n",
        "X, Y = make_classification(n_samples=5000, n_features=5, n_redundant=2,\n",
        "                           n_classes=2, weights=[0.7], class_sep=0.7, random_state=15)"
      ],
      "execution_count": 98,
      "outputs": []
    },
    {
      "cell_type": "code",
      "metadata": {
        "id": "-wuR1-ixYbel"
      },
      "source": [
        "from sklearn.model_selection import train_test_split"
      ],
      "execution_count": 99,
      "outputs": []
    },
    {
      "cell_type": "code",
      "metadata": {
        "id": "iEuAiaZ2ZD0B"
      },
      "source": [
        "#split x and y into train, cv, test data\n",
        "x_train, x_test, y_train, y_test = train_test_split(X, Y, random_state=15, test_size=0.2)\n",
        "x_train, x_cv, y_train, y_cv = train_test_split(x_train, y_train, random_state=15, test_size=0.2)"
      ],
      "execution_count": 100,
      "outputs": []
    },
    {
      "cell_type": "code",
      "metadata": {
        "id": "rAWcBxIfaDlo"
      },
      "source": [
        "#create SVC modelwith below parameters\n",
        "clf = SVC(C=100, gamma=0.001)\n",
        "\n",
        "#fit with train data\n",
        "clf.fit(x_train, y_train)\n",
        "\n",
        "#calculate decision function using model attributes\n",
        "model_df = clf.decision_function(x_cv)"
      ],
      "execution_count": 101,
      "outputs": []
    },
    {
      "cell_type": "code",
      "metadata": {
        "id": "Pgtgv79rPO9R"
      },
      "source": [
        "#Own Decision function\n",
        "def decision_function(x_cv):\n",
        "  #create numpy zeros array to store decision values for each x_cv \n",
        "  a = np.zeros(x_cv.shape[0])\n",
        "  #iterating through each value in x_cv\n",
        "  for k in range(len(x_cv)):\n",
        "    #initialize sum to zero\n",
        "    sum = 0\n",
        "    #iterating through each support vectors from model\n",
        "    for i in range(len(clf.support_vectors_)):\n",
        "      #calculate sum using formula\n",
        "      sum += clf.dual_coef_[0][i] * (np.exp((-0.001) * (np.linalg.norm(clf.support_vectors_[i] - x_cv[k]))**2))\n",
        "    #adding decision values to numpy array\n",
        "    a[k] = sum + clf.intercept_\n",
        "  \n",
        "  #returning array\n",
        "  return a"
      ],
      "execution_count": 102,
      "outputs": []
    },
    {
      "cell_type": "code",
      "metadata": {
        "id": "I_weFJNjXpwz"
      },
      "source": [
        "#calculate decision function using our own function\n",
        "fcv = decision_function(x_cv)"
      ],
      "execution_count": 103,
      "outputs": []
    },
    {
      "cell_type": "code",
      "metadata": {
        "id": "FQQth0BhrE2P",
        "colab": {
          "base_uri": "https://localhost:8080/"
        },
        "outputId": "a640ee2c-6184-406f-80a5-e71699da40e6"
      },
      "source": [
        "print(fcv[:5])\n",
        "print(model_df[:5])"
      ],
      "execution_count": 104,
      "outputs": [
        {
          "output_type": "stream",
          "name": "stdout",
          "text": [
            "[ 0.98281259 -1.10424672 -2.02119883 -3.08410483 -2.7867225 ]\n",
            "[ 0.98281259 -1.10424672 -2.02119883 -3.08410483 -2.7867225 ]\n"
          ]
        }
      ]
    },
    {
      "cell_type": "markdown",
      "metadata": {
        "id": "Y4yAclM2Gy3d"
      },
      "source": [
        "<h1>Task-F</h1>"
      ]
    },
    {
      "cell_type": "code",
      "metadata": {
        "id": "8cDtltUrHZ-h"
      },
      "source": [
        "#initializing weight and intercept to zero\n",
        "def initialize_weights(dim):\n",
        "  w = np.zeros_like(dim)\n",
        "  b = 0\n",
        "  return w,b\n",
        "\n",
        "#calculate sigmoid value\n",
        "def sigmoid(z):\n",
        "  return (1/(1+np.exp(-z)))\n",
        "\n",
        "def gradient_dw(x,y,w,b,alpha,N):\n",
        "  #calculate z value Wt,x + b\n",
        "  z = np.sum(np.dot(w, x))+b\n",
        "  #ccalculate gradiant for w using formula\n",
        "  dw = x*(y - sigmoid(z)) - ((alpha / N) * w)\n",
        "  return dw\n",
        "\n",
        "#calculate gradiant for b using formula\n",
        "def gradient_db(x,y,w,b):\n",
        "  z=np.sum(np.dot(w, x)) + b\n",
        "  db = y - sigmoid(z)\n",
        "  return db\n",
        "\n",
        "def logloss(y_true, y_pred):\n",
        "  #convert ytrue and ypred values to numpy array\n",
        "  y_true = np.array(y_true)\n",
        "  y_pred = np.array(y_pred)\n",
        "  #calculate loss value\n",
        "  loss = (-1) * ((1/len(y_true)) * (np.sum(y_true*np.log10(y_pred) + ((1-y_true)*np.log10(1-y_pred)))))\n",
        "  return loss\n",
        "\n",
        "def pred(w, b, x):\n",
        "  #pred = [1 if sigmoid((np.dot(w, x[i])) + b) >= 0.5 else 0 for i in range(len(x))]\n",
        "  pred = sigmoid((np.dot(x, w)) + b)\n",
        "  return pred"
      ],
      "execution_count": 105,
      "outputs": []
    },
    {
      "cell_type": "code",
      "metadata": {
        "id": "bSjX1dPiIm4N"
      },
      "source": [
        "n_pos = y_train.sum()\n",
        "n_neg = len(y_train) - n_pos"
      ],
      "execution_count": 106,
      "outputs": []
    },
    {
      "cell_type": "code",
      "metadata": {
        "id": "WlvKiDpFHv_C"
      },
      "source": [
        "y_pos = (n_pos + 1)/(n_pos + 2)\n",
        "y_neg = 1 / (n_neg + 2)"
      ],
      "execution_count": 107,
      "outputs": []
    },
    {
      "cell_type": "code",
      "metadata": {
        "id": "kcIQDPKlH8rR"
      },
      "source": [
        "y_cv_mod = np.where(y_cv == 0, y_neg, y_pos)"
      ],
      "execution_count": 108,
      "outputs": []
    },
    {
      "cell_type": "code",
      "metadata": {
        "colab": {
          "base_uri": "https://localhost:8080/"
        },
        "id": "FD1KIqeSIKTl",
        "outputId": "7e9362cf-b969-4a47-b3b7-0d49d68a8e38"
      },
      "source": [
        "y_cv_mod.shape, fcv.shape"
      ],
      "execution_count": 109,
      "outputs": [
        {
          "output_type": "execute_result",
          "data": {
            "text/plain": [
              "((800,), (800,))"
            ]
          },
          "metadata": {},
          "execution_count": 109
        }
      ]
    },
    {
      "cell_type": "code",
      "metadata": {
        "id": "D2Bnie3tCrqm"
      },
      "source": [
        "def train(x_train, y_train, epochs, alpha, eta0):\n",
        "  #creating empty list train loss, test loss\n",
        "  global train_loss\n",
        "  #initialize w, b\n",
        "  w, b = initialize_weights(x_train[0])\n",
        "  for i in range(epochs):\n",
        "    for j in range(len(x_train)):\n",
        "      #getting gradiant of w and b\n",
        "      dw = gradient_dw(x_train[j], y_train[j],w,b,alpha,N)\n",
        "      db = gradient_db(x_train[j], y_train[j], w, b)\n",
        "\n",
        "      w += (alpha * (dw))\n",
        "      b += (alpha * (db))\n",
        "      \n",
        "    #predict y values for train data\n",
        "    y_train_pred = pred(w, b, x_train)\n",
        "    #print(y_train_pred)\n",
        "\n",
        "    #calculate train loss\n",
        "    train_l = logloss(y_train, y_train_pred)\n",
        "    #print(train_l)\n",
        "\n",
        "    #adding train loss to its list\n",
        "    train_loss.append(train_l)\n",
        "\n",
        "    if i != 0:\n",
        "      if round(train_loss[i], 5) == round(train_loss[i-1], 5):\n",
        "        print('minimum reached', i)\n",
        "        break\n",
        "\n",
        "  return w, b"
      ],
      "execution_count": 110,
      "outputs": []
    },
    {
      "cell_type": "code",
      "metadata": {
        "id": "gDuK7s3XIe3l"
      },
      "source": [
        "train_loss = []\n",
        "\n",
        "alpha=0.0001\n",
        "eta0=0.0001\n",
        "N=len(x_train)\n",
        "epochs=100\n",
        "w,b=train(fcv,y_cv_mod,epochs,alpha,eta0)"
      ],
      "execution_count": 111,
      "outputs": []
    },
    {
      "cell_type": "code",
      "metadata": {
        "id": "KMoJTlRfIltt"
      },
      "source": [
        "ftest = decision_function(x_test)"
      ],
      "execution_count": 112,
      "outputs": []
    },
    {
      "cell_type": "code",
      "metadata": {
        "colab": {
          "base_uri": "https://localhost:8080/"
        },
        "id": "nvTNLVU5Jibm",
        "outputId": "0019cea3-acca-4be8-d812-2634b43cd54d"
      },
      "source": [
        "print(w, b)"
      ],
      "execution_count": 113,
      "outputs": [
        {
          "output_type": "stream",
          "name": "stdout",
          "text": [
            "1.4277321726651067 -0.17911142322741322\n"
          ]
        }
      ]
    },
    {
      "cell_type": "code",
      "metadata": {
        "id": "U55Pk4QLKiZE"
      },
      "source": [
        "y_prob = []\n",
        "for i in range(len(x_test)):\n",
        "  p = 1 / (1+ np.exp(-1*w*ftest[i] + b))\n",
        "  y_prob.append(p)"
      ],
      "execution_count": 114,
      "outputs": []
    },
    {
      "cell_type": "code",
      "metadata": {
        "colab": {
          "base_uri": "https://localhost:8080/"
        },
        "id": "_rMPQ1amLQUL",
        "outputId": "85b9f180-8752-49c4-bca1-da332fcc5654"
      },
      "source": [
        "y_prob[:5]"
      ],
      "execution_count": 115,
      "outputs": [
        {
          "output_type": "execute_result",
          "data": {
            "text/plain": [
              "[0.1866095212094272,\n",
              " 0.9523740312199632,\n",
              " 0.22337703002356762,\n",
              " 0.7162743748454865,\n",
              " 0.0004975341099692886]"
            ]
          },
          "metadata": {},
          "execution_count": 115
        }
      ]
    },
    {
      "cell_type": "code",
      "metadata": {
        "colab": {
          "base_uri": "https://localhost:8080/",
          "height": 350
        },
        "id": "zcWG2QdkAXxp",
        "outputId": "56d56434-6c74-4110-98d3-d902f88662b7"
      },
      "source": [
        "from matplotlib import pyplot as plt\n",
        "plt.figure(figsize=(20,5))\n",
        "plt.plot(np.arange(len(train_loss)), train_loss, label='Train loss')\n",
        "plt.xlabel('Epochs')\n",
        "plt.ylabel('Loss')\n",
        "plt.title('Epochs Vs Loss')\n",
        "plt.legend()\n",
        "plt.show()"
      ],
      "execution_count": 116,
      "outputs": [
        {
          "output_type": "display_data",
          "data": {
            "image/png": "[encoded data removed]",
            "text/plain": [
              "<Figure size 1440x360 with 1 Axes>"
            ]
          },
          "metadata": {
            "needs_background": "light"
          }
        }
      ]
    },
    {
      "cell_type": "code",
      "metadata": {
        "id": "MJRAqoybB5k5"
      },
      "source": [
        ""
      ],
      "execution_count": 116,
      "outputs": []
    }
  ]
}